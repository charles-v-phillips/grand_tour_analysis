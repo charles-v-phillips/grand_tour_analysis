{
 "cells": [
  {
   "cell_type": "code",
   "execution_count": 200,
   "id": "minimal-summer",
   "metadata": {},
   "outputs": [],
   "source": [
    "import pandas as pd\n",
    "import numpy as np\n",
    "\n",
    "import matplotlib.pyplot as plt\n",
    "import seaborn as sns\n"
   ]
  },
  {
   "cell_type": "code",
   "execution_count": 201,
   "id": "korean-essay",
   "metadata": {},
   "outputs": [
    {
     "data": {
      "text/plain": [
       "RangeIndex(start=0, stop=5341, step=1)"
      ]
     },
     "execution_count": 201,
     "metadata": {},
     "output_type": "execute_result"
    }
   ],
   "source": [
    "data = pd.read_csv('data/try_again2.csv')\n",
    "data.index"
   ]
  },
  {
   "cell_type": "code",
   "execution_count": 202,
   "id": "defensive-brooklyn",
   "metadata": {},
   "outputs": [
    {
     "name": "stdout",
     "output_type": "stream",
     "text": [
      "Int64Index([], dtype='int64')\n",
      "Int64Index([], dtype='int64')\n",
      "Int64Index([], dtype='int64')\n"
     ]
    }
   ],
   "source": [
    "data.head()\n",
    "data.shape\n",
    "data.tail()\n",
    "giro.tail()\n",
    "\n",
    "indeces1 = data[data['winner_age_when_won'] < 10].index\n",
    "indeces2 = data[data['second_age_when_won'] < 10].index\n",
    "indeces3 =  data[data['third_age_when_won'] < 10].index\n",
    "print(indeces1)\n",
    "print(indeces2)\n",
    "print(indeces3)\n",
    "\n",
    "data.drop(indeces1,inplace = True)\n",
    "data.drop(indeces2, inplace = True)\n",
    "data.drop(indeces3, inplace = True)\n",
    "# data['winner_age_when_won'] = data['winner_age_when_won'].replace(0.0, np.nan)\n",
    "# data['winner_age_when_won'] = data['second_age_when_won'].replace(0.0, np.nan)\n",
    "# data['winner_age_when_won'] = data['third_age_when_won'].replace(0.0, np.nan)\n",
    "# data[(data['winner_age_when_won'] < 10) | (data['second_age_when_won'] < 10) | (data['third_age_when_won'] < 10)]"
   ]
  },
  {
   "cell_type": "code",
   "execution_count": null,
   "id": "imposed-solution",
   "metadata": {},
   "outputs": [],
   "source": []
  },
  {
   "cell_type": "code",
   "execution_count": 203,
   "id": "vocational-davis",
   "metadata": {},
   "outputs": [],
   "source": [
    "ages = pd.concat([data['winner_age_when_won'],data['second_age_when_won'],data['third_age_when_won']])"
   ]
  },
  {
   "cell_type": "code",
   "execution_count": 204,
   "id": "least-ocean",
   "metadata": {},
   "outputs": [
    {
     "data": {
      "text/plain": [
       "(16023,)"
      ]
     },
     "execution_count": 204,
     "metadata": {},
     "output_type": "execute_result"
    }
   ],
   "source": [
    "ages.shape"
   ]
  },
  {
   "cell_type": "code",
   "execution_count": 205,
   "id": "accessory-ancient",
   "metadata": {},
   "outputs": [
    {
     "data": {
      "text/plain": [
       "0    20.37\n",
       "1    25.32\n",
       "2    26.47\n",
       "3    25.48\n",
       "4    25.49\n",
       "dtype: float64"
      ]
     },
     "execution_count": 205,
     "metadata": {},
     "output_type": "execute_result"
    }
   ],
   "source": [
    "ages.head()"
   ]
  },
  {
   "cell_type": "code",
   "execution_count": null,
   "id": "rotary-calgary",
   "metadata": {},
   "outputs": [],
   "source": []
  },
  {
   "cell_type": "code",
   "execution_count": 206,
   "id": "seeing-reply",
   "metadata": {},
   "outputs": [
    {
     "data": {
      "text/plain": [
       "(16023,)"
      ]
     },
     "execution_count": 206,
     "metadata": {},
     "output_type": "execute_result"
    }
   ],
   "source": [
    "ages.shape"
   ]
  },
  {
   "cell_type": "code",
   "execution_count": 207,
   "id": "theoretical-enterprise",
   "metadata": {},
   "outputs": [
    {
     "data": {
      "text/plain": [
       "(array([4.000e+00, 9.000e+00, 2.900e+01, 6.400e+01, 1.340e+02, 2.550e+02,\n",
       "        3.260e+02, 5.210e+02, 7.260e+02, 8.790e+02, 9.310e+02, 1.073e+03,\n",
       "        9.910e+02, 1.091e+03, 9.960e+02, 9.980e+02, 9.370e+02, 8.690e+02,\n",
       "        8.020e+02, 7.260e+02, 6.250e+02, 5.920e+02, 4.750e+02, 4.720e+02,\n",
       "        3.590e+02, 2.770e+02, 2.440e+02, 1.550e+02, 1.490e+02, 8.200e+01,\n",
       "        7.900e+01, 5.400e+01, 3.000e+01, 2.500e+01, 6.000e+00, 7.000e+00,\n",
       "        1.000e+00, 2.000e+00, 3.000e+00, 4.000e+00]),\n",
       " array([18.69   , 19.27075, 19.8515 , 20.43225, 21.013  , 21.59375,\n",
       "        22.1745 , 22.75525, 23.336  , 23.91675, 24.4975 , 25.07825,\n",
       "        25.659  , 26.23975, 26.8205 , 27.40125, 27.982  , 28.56275,\n",
       "        29.1435 , 29.72425, 30.305  , 30.88575, 31.4665 , 32.04725,\n",
       "        32.628  , 33.20875, 33.7895 , 34.37025, 34.951  , 35.53175,\n",
       "        36.1125 , 36.69325, 37.274  , 37.85475, 38.4355 , 39.01625,\n",
       "        39.597  , 40.17775, 40.7585 , 41.33925, 41.92   ]),\n",
       " <BarContainer object of 40 artists>)"
      ]
     },
     "execution_count": 207,
     "metadata": {},
     "output_type": "execute_result"
    },
    {
     "data": {
      "image/png": "[encoded data removed]",
      "text/plain": [
       "<Figure size 432x288 with 1 Axes>"
      ]
     },
     "metadata": {
      "needs_background": "light"
     },
     "output_type": "display_data"
    }
   ],
   "source": [
    "plt.hist(ages,bins = 40)"
   ]
  },
  {
   "cell_type": "code",
   "execution_count": 208,
   "id": "waiting-underground",
   "metadata": {},
   "outputs": [
    {
     "data": {
      "text/plain": [
       "<AxesSubplot:ylabel='Count'>"
      ]
     },
     "execution_count": 208,
     "metadata": {},
     "output_type": "execute_result"
    },
    {
     "data": {
      "image/png": "[encoded data removed]",
      "text/plain": [
       "<Figure size 432x288 with 1 Axes>"
      ]
     },
     "metadata": {
      "needs_background": "light"
     },
     "output_type": "display_data"
    }
   ],
   "source": [
    "sns.histplot(ages,kde = True,bins = 20)"
   ]
  },
  {
   "cell_type": "code",
   "execution_count": 209,
   "id": "distinct-percentage",
   "metadata": {},
   "outputs": [
    {
     "data": {
      "text/html": [
       "<div>\n",
       "<style scoped>\n",
       "    .dataframe tbody tr th:only-of-type {\n",
       "        vertical-align: middle;\n",
       "    }\n",
       "\n",
       "    .dataframe tbody tr th {\n",
       "        vertical-align: top;\n",
       "    }\n",
       "\n",
       "    .dataframe thead th {\n",
       "        text-align: right;\n",
       "    }\n",
       "</style>\n",
       "<table border=\"1\" class=\"dataframe\">\n",
       "  <thead>\n",
       "    <tr style=\"text-align: right;\">\n",
       "      <th></th>\n",
       "      <th>race</th>\n",
       "      <th>edition</th>\n",
       "      <th>stage</th>\n",
       "      <th>date</th>\n",
       "      <th>avg_speed_of_winner</th>\n",
       "      <th>race_category</th>\n",
       "      <th>distance</th>\n",
       "      <th>point_scale</th>\n",
       "      <th>parcour_type</th>\n",
       "      <th>profile_score</th>\n",
       "      <th>vertical_meters</th>\n",
       "      <th>departure</th>\n",
       "      <th>arrival</th>\n",
       "      <th>race_ranking</th>\n",
       "      <th>won_how</th>\n",
       "      <th>winner</th>\n",
       "      <th>winner_age_when_won</th>\n",
       "      <th>second_age_when_won</th>\n",
       "      <th>third_age_when_won</th>\n",
       "      <th>is_tt</th>\n",
       "    </tr>\n",
       "  </thead>\n",
       "  <tbody>\n",
       "    <tr>\n",
       "      <th>0</th>\n",
       "      <td>giro-d-italia</td>\n",
       "      <td>1909</td>\n",
       "      <td>1</td>\n",
       "      <td>1909-05-13 00:00:00</td>\n",
       "      <td>28.15</td>\n",
       "      <td>ME - Men Elite</td>\n",
       "      <td>397 km</td>\n",
       "      <td>GT.B.Stage</td>\n",
       "      <td></td>\n",
       "      <td></td>\n",
       "      <td>NaN</td>\n",
       "      <td>Milano</td>\n",
       "      <td>Bologna</td>\n",
       "      <td>37</td>\n",
       "      <td>? - let us know!</td>\n",
       "      <td>BENI Dario</td>\n",
       "      <td>20.37</td>\n",
       "      <td>19.75</td>\n",
       "      <td>26.73</td>\n",
       "      <td>0.0</td>\n",
       "    </tr>\n",
       "    <tr>\n",
       "      <th>1</th>\n",
       "      <td>giro-d-italia</td>\n",
       "      <td>1909</td>\n",
       "      <td>2</td>\n",
       "      <td>1909-05-16 00:00:00</td>\n",
       "      <td>NaN</td>\n",
       "      <td>ME - Men Elite</td>\n",
       "      <td>178 km</td>\n",
       "      <td>GT.B.Stage</td>\n",
       "      <td></td>\n",
       "      <td></td>\n",
       "      <td>NaN</td>\n",
       "      <td>Bologna</td>\n",
       "      <td>Chieti</td>\n",
       "      <td>37</td>\n",
       "      <td>? - let us know!</td>\n",
       "      <td>CUNIOLO Giovanni</td>\n",
       "      <td>25.32</td>\n",
       "      <td>25.47</td>\n",
       "      <td>27.90</td>\n",
       "      <td>0.0</td>\n",
       "    </tr>\n",
       "    <tr>\n",
       "      <th>2</th>\n",
       "      <td>giro-d-italia</td>\n",
       "      <td>1909</td>\n",
       "      <td>3</td>\n",
       "      <td>1909-05-18 00:00:00</td>\n",
       "      <td>25.56</td>\n",
       "      <td>ME - Men Elite</td>\n",
       "      <td>242 km</td>\n",
       "      <td>GT.B.Stage</td>\n",
       "      <td></td>\n",
       "      <td></td>\n",
       "      <td>NaN</td>\n",
       "      <td>Chieti</td>\n",
       "      <td>Napoli</td>\n",
       "      <td>37</td>\n",
       "      <td>? - let us know!</td>\n",
       "      <td>ROSSIGNOLI Giovanni</td>\n",
       "      <td>26.47</td>\n",
       "      <td>26.74</td>\n",
       "      <td>22.53</td>\n",
       "      <td>0.0</td>\n",
       "    </tr>\n",
       "    <tr>\n",
       "      <th>3</th>\n",
       "      <td>giro-d-italia</td>\n",
       "      <td>1909</td>\n",
       "      <td>4</td>\n",
       "      <td>1909-05-20 00:00:00</td>\n",
       "      <td>26.72</td>\n",
       "      <td>ME - Men Elite</td>\n",
       "      <td>228 km</td>\n",
       "      <td>GT.B.Stage</td>\n",
       "      <td></td>\n",
       "      <td></td>\n",
       "      <td>NaN</td>\n",
       "      <td>Napoli</td>\n",
       "      <td>Roma</td>\n",
       "      <td>37</td>\n",
       "      <td>? - let us know!</td>\n",
       "      <td>GANNA Luigi</td>\n",
       "      <td>25.48</td>\n",
       "      <td>20.55</td>\n",
       "      <td>26.48</td>\n",
       "      <td>0.0</td>\n",
       "    </tr>\n",
       "    <tr>\n",
       "      <th>4</th>\n",
       "      <td>giro-d-italia</td>\n",
       "      <td>1909</td>\n",
       "      <td>5</td>\n",
       "      <td>1909-05-23 00:00:00</td>\n",
       "      <td>27.00</td>\n",
       "      <td>ME - Men Elite</td>\n",
       "      <td>346 km</td>\n",
       "      <td>GT.B.Stage</td>\n",
       "      <td></td>\n",
       "      <td></td>\n",
       "      <td>NaN</td>\n",
       "      <td>Roma</td>\n",
       "      <td>Firenze</td>\n",
       "      <td>37</td>\n",
       "      <td>? - let us know!</td>\n",
       "      <td>GANNA Luigi</td>\n",
       "      <td>25.49</td>\n",
       "      <td>26.76</td>\n",
       "      <td>19.59</td>\n",
       "      <td>0.0</td>\n",
       "    </tr>\n",
       "  </tbody>\n",
       "</table>\n",
       "</div>"
      ],
      "text/plain": [
       "            race  edition  stage                 date  avg_speed_of_winner  \\\n",
       "0  giro-d-italia     1909      1  1909-05-13 00:00:00                28.15   \n",
       "1  giro-d-italia     1909      2  1909-05-16 00:00:00                  NaN   \n",
       "2  giro-d-italia     1909      3  1909-05-18 00:00:00                25.56   \n",
       "3  giro-d-italia     1909      4  1909-05-20 00:00:00                26.72   \n",
       "4  giro-d-italia     1909      5  1909-05-23 00:00:00                27.00   \n",
       "\n",
       "     race_category  distance  point_scale parcour_type profile_score  \\\n",
       "0   ME - Men Elite    397 km   GT.B.Stage                              \n",
       "1   ME - Men Elite    178 km   GT.B.Stage                              \n",
       "2   ME - Men Elite    242 km   GT.B.Stage                              \n",
       "3   ME - Men Elite    228 km   GT.B.Stage                              \n",
       "4   ME - Men Elite    346 km   GT.B.Stage                              \n",
       "\n",
       "   vertical_meters departure   arrival  race_ranking             won_how  \\\n",
       "0              NaN    Milano   Bologna            37    ? - let us know!   \n",
       "1              NaN   Bologna    Chieti            37    ? - let us know!   \n",
       "2              NaN    Chieti    Napoli            37    ? - let us know!   \n",
       "3              NaN    Napoli      Roma            37    ? - let us know!   \n",
       "4              NaN      Roma   Firenze            37    ? - let us know!   \n",
       "\n",
       "                winner  winner_age_when_won  second_age_when_won  \\\n",
       "0           BENI Dario                20.37                19.75   \n",
       "1     CUNIOLO Giovanni                25.32                25.47   \n",
       "2  ROSSIGNOLI Giovanni                26.47                26.74   \n",
       "3          GANNA Luigi                25.48                20.55   \n",
       "4          GANNA Luigi                25.49                26.76   \n",
       "\n",
       "   third_age_when_won  is_tt  \n",
       "0               26.73    0.0  \n",
       "1               27.90    0.0  \n",
       "2               22.53    0.0  \n",
       "3               26.48    0.0  \n",
       "4               19.59    0.0  "
      ]
     },
     "execution_count": 209,
     "metadata": {},
     "output_type": "execute_result"
    }
   ],
   "source": [
    "data.head()"
   ]
  },
  {
   "cell_type": "code",
   "execution_count": 210,
   "id": "mysterious-improvement",
   "metadata": {},
   "outputs": [
    {
     "data": {
      "text/plain": [
       "Int64Index([   0,    1,    2,    3,    4,    5,    6,    7,    8,    9,\n",
       "            ...\n",
       "            5331, 5332, 5333, 5334, 5335, 5336, 5337, 5338, 5339, 5340],\n",
       "           dtype='int64', length=5341)"
      ]
     },
     "execution_count": 210,
     "metadata": {},
     "output_type": "execute_result"
    }
   ],
   "source": [
    "data.index"
   ]
  },
  {
   "cell_type": "code",
   "execution_count": 211,
   "id": "magnetic-gasoline",
   "metadata": {},
   "outputs": [
    {
     "data": {
      "text/plain": [
       "(5341, 2)"
      ]
     },
     "execution_count": 211,
     "metadata": {},
     "output_type": "execute_result"
    }
   ],
   "source": [
    "a = data[['edition','second_age_when_won']].rename({'second_age_when_won' : 'age'},axis = 1)\n",
    "b = data[['edition','winner_age_when_won']].rename({'winner_age_when_won' : 'age'},axis = 1)\n",
    "c = data[['edition','third_age_when_won']].rename({'third_age_when_won' : 'age'},axis = 1)\n",
    "\n",
    "d = pd.concat([a,b,c])\n",
    "a.shape"
   ]
  },
  {
   "cell_type": "code",
   "execution_count": 212,
   "id": "quantitative-julian",
   "metadata": {},
   "outputs": [
    {
     "data": {
      "text/html": [
       "<div>\n",
       "<style scoped>\n",
       "    .dataframe tbody tr th:only-of-type {\n",
       "        vertical-align: middle;\n",
       "    }\n",
       "\n",
       "    .dataframe tbody tr th {\n",
       "        vertical-align: top;\n",
       "    }\n",
       "\n",
       "    .dataframe thead th {\n",
       "        text-align: right;\n",
       "    }\n",
       "</style>\n",
       "<table border=\"1\" class=\"dataframe\">\n",
       "  <thead>\n",
       "    <tr style=\"text-align: right;\">\n",
       "      <th></th>\n",
       "      <th>edition</th>\n",
       "      <th>age</th>\n",
       "    </tr>\n",
       "  </thead>\n",
       "  <tbody>\n",
       "    <tr>\n",
       "      <th>0</th>\n",
       "      <td>1909</td>\n",
       "      <td>19.75</td>\n",
       "    </tr>\n",
       "    <tr>\n",
       "      <th>1</th>\n",
       "      <td>1909</td>\n",
       "      <td>25.47</td>\n",
       "    </tr>\n",
       "    <tr>\n",
       "      <th>2</th>\n",
       "      <td>1909</td>\n",
       "      <td>26.74</td>\n",
       "    </tr>\n",
       "    <tr>\n",
       "      <th>3</th>\n",
       "      <td>1909</td>\n",
       "      <td>20.55</td>\n",
       "    </tr>\n",
       "    <tr>\n",
       "      <th>4</th>\n",
       "      <td>1909</td>\n",
       "      <td>26.76</td>\n",
       "    </tr>\n",
       "    <tr>\n",
       "      <th>...</th>\n",
       "      <td>...</td>\n",
       "      <td>...</td>\n",
       "    </tr>\n",
       "    <tr>\n",
       "      <th>5336</th>\n",
       "      <td>2021</td>\n",
       "      <td>26.99</td>\n",
       "    </tr>\n",
       "    <tr>\n",
       "      <th>5337</th>\n",
       "      <td>2021</td>\n",
       "      <td>31.87</td>\n",
       "    </tr>\n",
       "    <tr>\n",
       "      <th>5338</th>\n",
       "      <td>2021</td>\n",
       "      <td>25.01</td>\n",
       "    </tr>\n",
       "    <tr>\n",
       "      <th>5339</th>\n",
       "      <td>2021</td>\n",
       "      <td>31.87</td>\n",
       "    </tr>\n",
       "    <tr>\n",
       "      <th>5340</th>\n",
       "      <td>2021</td>\n",
       "      <td>28.65</td>\n",
       "    </tr>\n",
       "  </tbody>\n",
       "</table>\n",
       "<p>5341 rows × 2 columns</p>\n",
       "</div>"
      ],
      "text/plain": [
       "      edition    age\n",
       "0        1909  19.75\n",
       "1        1909  25.47\n",
       "2        1909  26.74\n",
       "3        1909  20.55\n",
       "4        1909  26.76\n",
       "...       ...    ...\n",
       "5336     2021  26.99\n",
       "5337     2021  31.87\n",
       "5338     2021  25.01\n",
       "5339     2021  31.87\n",
       "5340     2021  28.65\n",
       "\n",
       "[5341 rows x 2 columns]"
      ]
     },
     "execution_count": 212,
     "metadata": {},
     "output_type": "execute_result"
    }
   ],
   "source": [
    "a"
   ]
  },
  {
   "cell_type": "code",
   "execution_count": null,
   "id": "outside-patio",
   "metadata": {},
   "outputs": [],
   "source": []
  }
 ],
 "metadata": {
  "kernelspec": {
   "display_name": "Python 3",
   "language": "python",
   "name": "python3"
  },
  "language_info": {
   "codemirror_mode": {
    "name": "ipython",
    "version": 3
   },
   "file_extension": ".py",
   "mimetype": "text/x-python",
   "name": "python",
   "nbconvert_exporter": "python",
   "pygments_lexer": "ipython3",
   "version": "3.9.1"
  }
 },
 "nbformat": 4,
 "nbformat_minor": 5
}
