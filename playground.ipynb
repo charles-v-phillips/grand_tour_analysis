{
 "cells": [
  {
   "cell_type": "code",
   "execution_count": 1,
   "id": "minimal-summer",
   "metadata": {},
   "outputs": [],
   "source": [
    "import pandas as pd\n",
    "import numpy as np\n",
    "\n",
    "import matplotlib.pyplot as plt\n",
    "import seaborn as sns\n"
   ]
  },
  {
   "cell_type": "code",
   "execution_count": 2,
   "id": "korean-essay",
   "metadata": {},
   "outputs": [
    {
     "data": {
      "text/plain": [
       "RangeIndex(start=0, stop=5341, step=1)"
      ]
     },
     "execution_count": 2,
     "metadata": {},
     "output_type": "execute_result"
    }
   ],
   "source": [
    "data = pd.read_csv('data/try_again2.csv')\n",
    "data.index"
   ]
  },
  {
   "cell_type": "code",
   "execution_count": 4,
   "id": "unlike-short",
   "metadata": {},
   "outputs": [
    {
     "name": "stdout",
     "output_type": "stream",
     "text": [
      "Int64Index([], dtype='int64')\n",
      "Int64Index([], dtype='int64')\n",
      "Int64Index([], dtype='int64')\n"
     ]
    }
   ],
   "source": [
    "data.head()\n",
    "data.shape\n",
    "data.tail()\n",
    "\n",
    "\n",
    "indeces1 = data[data['winner_age_when_won'] < 10].index\n",
    "indeces2 = data[data['second_age_when_won'] < 10].index\n",
    "indeces3 =  data[data['third_age_when_won'] < 10].index\n",
    "print(indeces1)\n",
    "print(indeces2)\n",
    "print(indeces3)\n",
    "\n",
    "data.drop(indeces1,inplace = True)\n",
    "data.drop(indeces2, inplace = True)\n",
    "data.drop(indeces3, inplace = True)\n",
    "# data['winner_age_when_won'] = data['winner_age_when_won'].replace(0.0, np.nan)\n",
    "# data['winner_age_when_won'] = data['second_age_when_won'].replace(0.0, np.nan)\n",
    "# data['winner_age_when_won'] = data['third_age_when_won'].replace(0.0, np.nan)\n",
    "# data[(data['winner_age_when_won'] < 10) | (data['second_age_when_won'] < 10) | (data['third_age_when_won'] < 10)]"
   ]
  },
  {
   "cell_type": "code",
   "execution_count": null,
   "id": "suspected-jimmy",
   "metadata": {},
   "outputs": [],
   "source": []
  },
  {
   "cell_type": "code",
   "execution_count": 5,
   "id": "lightweight-happiness",
   "metadata": {},
   "outputs": [],
   "source": [
    "ages = pd.concat([data['winner_age_when_won'],data['second_age_when_won'],data['third_age_when_won']])"
   ]
  },
  {
   "cell_type": "code",
   "execution_count": 6,
   "id": "attended-lincoln",
   "metadata": {},
   "outputs": [
    {
     "data": {
      "text/plain": [
       "(16023,)"
      ]
     },
     "execution_count": 6,
     "metadata": {},
     "output_type": "execute_result"
    }
   ],
   "source": [
    "ages.shape"
   ]
  },
  {
   "cell_type": "code",
   "execution_count": 7,
   "id": "stunning-foster",
   "metadata": {},
   "outputs": [
    {
     "data": {
      "text/plain": [
       "0    20.37\n",
       "1    25.32\n",
       "2    26.47\n",
       "3    25.48\n",
       "4    25.49\n",
       "dtype: float64"
      ]
     },
     "execution_count": 7,
     "metadata": {},
     "output_type": "execute_result"
    }
   ],
   "source": [
    "ages.head()"
   ]
  },
  {
   "cell_type": "code",
   "execution_count": null,
   "id": "mediterranean-laugh",
   "metadata": {},
   "outputs": [],
   "source": []
  },
  {
   "cell_type": "code",
   "execution_count": 8,
   "id": "convertible-performer",
   "metadata": {},
   "outputs": [
    {
     "data": {
      "text/plain": [
       "(16023,)"
      ]
     },
     "execution_count": 8,
     "metadata": {},
     "output_type": "execute_result"
    }
   ],
   "source": [
    "ages.shape"
   ]
  },
  {
   "cell_type": "code",
   "execution_count": 9,
   "id": "hired-south",
   "metadata": {},
   "outputs": [
    {
     "data": {
      "text/plain": [
       "(array([4.000e+00, 9.000e+00, 2.900e+01, 6.400e+01, 1.340e+02, 2.550e+02,\n",
       "        3.260e+02, 5.210e+02, 7.260e+02, 8.790e+02, 9.310e+02, 1.073e+03,\n",
       "        9.910e+02, 1.091e+03, 9.960e+02, 9.980e+02, 9.370e+02, 8.690e+02,\n",
       "        8.020e+02, 7.260e+02, 6.250e+02, 5.920e+02, 4.750e+02, 4.720e+02,\n",
       "        3.590e+02, 2.770e+02, 2.440e+02, 1.550e+02, 1.490e+02, 8.200e+01,\n",
       "        7.900e+01, 5.400e+01, 3.000e+01, 2.500e+01, 6.000e+00, 7.000e+00,\n",
       "        1.000e+00, 2.000e+00, 3.000e+00, 4.000e+00]),\n",
       " array([18.69   , 19.27075, 19.8515 , 20.43225, 21.013  , 21.59375,\n",
       "        22.1745 , 22.75525, 23.336  , 23.91675, 24.4975 , 25.07825,\n",
       "        25.659  , 26.23975, 26.8205 , 27.40125, 27.982  , 28.56275,\n",
       "        29.1435 , 29.72425, 30.305  , 30.88575, 31.4665 , 32.04725,\n",
       "        32.628  , 33.20875, 33.7895 , 34.37025, 34.951  , 35.53175,\n",
       "        36.1125 , 36.69325, 37.274  , 37.85475, 38.4355 , 39.01625,\n",
       "        39.597  , 40.17775, 40.7585 , 41.33925, 41.92   ]),\n",
       " <BarContainer object of 40 artists>)"
      ]
     },
     "execution_count": 9,
     "metadata": {},
     "output_type": "execute_result"
    },
    {
     "data": {
      "image/png": "[encoded data removed]",
      "text/plain": [
       "<Figure size 432x288 with 1 Axes>"
      ]
     },
     "metadata": {
      "needs_background": "light"
     },
     "output_type": "display_data"
    }
   ],
   "source": [
    "plt.hist(ages,bins = 40)"
   ]
  },
  {
   "cell_type": "code",
   "execution_count": 10,
   "id": "organized-establishment",
   "metadata": {},
   "outputs": [
    {
     "data": {
      "text/plain": [
       "<AxesSubplot:ylabel='Count'>"
      ]
     },
     "execution_count": 10,
     "metadata": {},
     "output_type": "execute_result"
    },
    {
     "data": {
      "image/png": "[encoded data removed]",
      "text/plain": [
       "<Figure size 432x288 with 1 Axes>"
      ]
     },
     "metadata": {
      "needs_background": "light"
     },
     "output_type": "display_data"
    }
   ],
   "source": [
    "sns.histplot(ages,kde = True,bins = 20)"
   ]
  },
  {
   "cell_type": "code",
   "execution_count": 11,
   "id": "chubby-brake",
   "metadata": {},
   "outputs": [
    {
     "data": {
      "text/html": [
       "<div>\n",
       "<style scoped>\n",
       "    .dataframe tbody tr th:only-of-type {\n",
       "        vertical-align: middle;\n",
       "    }\n",
       "\n",
       "    .dataframe tbody tr th {\n",
       "        vertical-align: top;\n",
       "    }\n",
       "\n",
       "    .dataframe thead th {\n",
       "        text-align: right;\n",
       "    }\n",
       "</style>\n",
       "<table border=\"1\" class=\"dataframe\">\n",
       "  <thead>\n",
       "    <tr style=\"text-align: right;\">\n",
       "      <th></th>\n",
       "      <th>race</th>\n",
       "      <th>edition</th>\n",
       "      <th>stage</th>\n",
       "      <th>date</th>\n",
       "      <th>avg_speed_of_winner</th>\n",
       "      <th>race_category</th>\n",
       "      <th>distance</th>\n",
       "      <th>point_scale</th>\n",
       "      <th>parcour_type</th>\n",
       "      <th>profile_score</th>\n",
       "      <th>vertical_meters</th>\n",
       "      <th>departure</th>\n",
       "      <th>arrival</th>\n",
       "      <th>race_ranking</th>\n",
       "      <th>won_how</th>\n",
       "      <th>winner</th>\n",
       "      <th>winner_age_when_won</th>\n",
       "      <th>second_age_when_won</th>\n",
       "      <th>third_age_when_won</th>\n",
       "      <th>is_tt</th>\n",
       "    </tr>\n",
       "  </thead>\n",
       "  <tbody>\n",
       "    <tr>\n",
       "      <th>0</th>\n",
       "      <td>giro-d-italia</td>\n",
       "      <td>1909</td>\n",
       "      <td>1</td>\n",
       "      <td>1909-05-13 00:00:00</td>\n",
       "      <td>28.15</td>\n",
       "      <td>ME - Men Elite</td>\n",
       "      <td>397 km</td>\n",
       "      <td>GT.B.Stage</td>\n",
       "      <td></td>\n",
       "      <td></td>\n",
       "      <td>NaN</td>\n",
       "      <td>Milano</td>\n",
       "      <td>Bologna</td>\n",
       "      <td>37</td>\n",
       "      <td>? - let us know!</td>\n",
       "      <td>BENI Dario</td>\n",
       "      <td>20.37</td>\n",
       "      <td>19.75</td>\n",
       "      <td>26.73</td>\n",
       "      <td>0.0</td>\n",
       "    </tr>\n",
       "    <tr>\n",
       "      <th>1</th>\n",
       "      <td>giro-d-italia</td>\n",
       "      <td>1909</td>\n",
       "      <td>2</td>\n",
       "      <td>1909-05-16 00:00:00</td>\n",
       "      <td>NaN</td>\n",
       "      <td>ME - Men Elite</td>\n",
       "      <td>178 km</td>\n",
       "      <td>GT.B.Stage</td>\n",
       "      <td></td>\n",
       "      <td></td>\n",
       "      <td>NaN</td>\n",
       "      <td>Bologna</td>\n",
       "      <td>Chieti</td>\n",
       "      <td>37</td>\n",
       "      <td>? - let us know!</td>\n",
       "      <td>CUNIOLO Giovanni</td>\n",
       "      <td>25.32</td>\n",
       "      <td>25.47</td>\n",
       "      <td>27.90</td>\n",
       "      <td>0.0</td>\n",
       "    </tr>\n",
       "    <tr>\n",
       "      <th>2</th>\n",
       "      <td>giro-d-italia</td>\n",
       "      <td>1909</td>\n",
       "      <td>3</td>\n",
       "      <td>1909-05-18 00:00:00</td>\n",
       "      <td>25.56</td>\n",
       "      <td>ME - Men Elite</td>\n",
       "      <td>242 km</td>\n",
       "      <td>GT.B.Stage</td>\n",
       "      <td></td>\n",
       "      <td></td>\n",
       "      <td>NaN</td>\n",
       "      <td>Chieti</td>\n",
       "      <td>Napoli</td>\n",
       "      <td>37</td>\n",
       "      <td>? - let us know!</td>\n",
       "      <td>ROSSIGNOLI Giovanni</td>\n",
       "      <td>26.47</td>\n",
       "      <td>26.74</td>\n",
       "      <td>22.53</td>\n",
       "      <td>0.0</td>\n",
       "    </tr>\n",
       "    <tr>\n",
       "      <th>3</th>\n",
       "      <td>giro-d-italia</td>\n",
       "      <td>1909</td>\n",
       "      <td>4</td>\n",
       "      <td>1909-05-20 00:00:00</td>\n",
       "      <td>26.72</td>\n",
       "      <td>ME - Men Elite</td>\n",
       "      <td>228 km</td>\n",
       "      <td>GT.B.Stage</td>\n",
       "      <td></td>\n",
       "      <td></td>\n",
       "      <td>NaN</td>\n",
       "      <td>Napoli</td>\n",
       "      <td>Roma</td>\n",
       "      <td>37</td>\n",
       "      <td>? - let us know!</td>\n",
       "      <td>GANNA Luigi</td>\n",
       "      <td>25.48</td>\n",
       "      <td>20.55</td>\n",
       "      <td>26.48</td>\n",
       "      <td>0.0</td>\n",
       "    </tr>\n",
       "    <tr>\n",
       "      <th>4</th>\n",
       "      <td>giro-d-italia</td>\n",
       "      <td>1909</td>\n",
       "      <td>5</td>\n",
       "      <td>1909-05-23 00:00:00</td>\n",
       "      <td>27.00</td>\n",
       "      <td>ME - Men Elite</td>\n",
       "      <td>346 km</td>\n",
       "      <td>GT.B.Stage</td>\n",
       "      <td></td>\n",
       "      <td></td>\n",
       "      <td>NaN</td>\n",
       "      <td>Roma</td>\n",
       "      <td>Firenze</td>\n",
       "      <td>37</td>\n",
       "      <td>? - let us know!</td>\n",
       "      <td>GANNA Luigi</td>\n",
       "      <td>25.49</td>\n",
       "      <td>26.76</td>\n",
       "      <td>19.59</td>\n",
       "      <td>0.0</td>\n",
       "    </tr>\n",
       "  </tbody>\n",
       "</table>\n",
       "</div>"
      ],
      "text/plain": [
       "            race  edition  stage                 date  avg_speed_of_winner  \\\n",
       "0  giro-d-italia     1909      1  1909-05-13 00:00:00                28.15   \n",
       "1  giro-d-italia     1909      2  1909-05-16 00:00:00                  NaN   \n",
       "2  giro-d-italia     1909      3  1909-05-18 00:00:00                25.56   \n",
       "3  giro-d-italia     1909      4  1909-05-20 00:00:00                26.72   \n",
       "4  giro-d-italia     1909      5  1909-05-23 00:00:00                27.00   \n",
       "\n",
       "     race_category  distance  point_scale parcour_type profile_score  \\\n",
       "0   ME - Men Elite    397 km   GT.B.Stage                              \n",
       "1   ME - Men Elite    178 km   GT.B.Stage                              \n",
       "2   ME - Men Elite    242 km   GT.B.Stage                              \n",
       "3   ME - Men Elite    228 km   GT.B.Stage                              \n",
       "4   ME - Men Elite    346 km   GT.B.Stage                              \n",
       "\n",
       "   vertical_meters departure   arrival  race_ranking             won_how  \\\n",
       "0              NaN    Milano   Bologna            37    ? - let us know!   \n",
       "1              NaN   Bologna    Chieti            37    ? - let us know!   \n",
       "2              NaN    Chieti    Napoli            37    ? - let us know!   \n",
       "3              NaN    Napoli      Roma            37    ? - let us know!   \n",
       "4              NaN      Roma   Firenze            37    ? - let us know!   \n",
       "\n",
       "                winner  winner_age_when_won  second_age_when_won  \\\n",
       "0           BENI Dario                20.37                19.75   \n",
       "1     CUNIOLO Giovanni                25.32                25.47   \n",
       "2  ROSSIGNOLI Giovanni                26.47                26.74   \n",
       "3          GANNA Luigi                25.48                20.55   \n",
       "4          GANNA Luigi                25.49                26.76   \n",
       "\n",
       "   third_age_when_won  is_tt  \n",
       "0               26.73    0.0  \n",
       "1               27.90    0.0  \n",
       "2               22.53    0.0  \n",
       "3               26.48    0.0  \n",
       "4               19.59    0.0  "
      ]
     },
     "execution_count": 11,
     "metadata": {},
     "output_type": "execute_result"
    }
   ],
   "source": [
    "data.head()"
   ]
  },
  {
   "cell_type": "code",
   "execution_count": 12,
   "id": "documentary-clinic",
   "metadata": {},
   "outputs": [
    {
     "data": {
      "text/plain": [
       "Int64Index([   0,    1,    2,    3,    4,    5,    6,    7,    8,    9,\n",
       "            ...\n",
       "            5331, 5332, 5333, 5334, 5335, 5336, 5337, 5338, 5339, 5340],\n",
       "           dtype='int64', length=5341)"
      ]
     },
     "execution_count": 12,
     "metadata": {},
     "output_type": "execute_result"
    }
   ],
   "source": [
    "data.index"
   ]
  },
  {
   "cell_type": "code",
   "execution_count": 13,
   "id": "distinct-literacy",
   "metadata": {},
   "outputs": [
    {
     "data": {
      "text/plain": [
       "(16023, 2)"
      ]
     },
     "execution_count": 13,
     "metadata": {},
     "output_type": "execute_result"
    }
   ],
   "source": [
    "a = data[['edition','second_age_when_won']].rename({'second_age_when_won' : 'age'},axis = 1)\n",
    "b = data[['edition','winner_age_when_won']].rename({'winner_age_when_won' : 'age'},axis = 1)\n",
    "c = data[['edition','third_age_when_won']].rename({'third_age_when_won' : 'age'},axis = 1)\n",
    "\n",
    "d = pd.concat([a,b,c])\n",
    "d.shape"
   ]
  },
  {
   "cell_type": "code",
   "execution_count": 14,
   "id": "welcome-sense",
   "metadata": {},
   "outputs": [
    {
     "data": {
      "text/html": [
       "<div>\n",
       "<style scoped>\n",
       "    .dataframe tbody tr th:only-of-type {\n",
       "        vertical-align: middle;\n",
       "    }\n",
       "\n",
       "    .dataframe tbody tr th {\n",
       "        vertical-align: top;\n",
       "    }\n",
       "\n",
       "    .dataframe thead th {\n",
       "        text-align: right;\n",
       "    }\n",
       "</style>\n",
       "<table border=\"1\" class=\"dataframe\">\n",
       "  <thead>\n",
       "    <tr style=\"text-align: right;\">\n",
       "      <th></th>\n",
       "      <th>edition</th>\n",
       "      <th>age</th>\n",
       "    </tr>\n",
       "  </thead>\n",
       "  <tbody>\n",
       "    <tr>\n",
       "      <th>0</th>\n",
       "      <td>1909</td>\n",
       "      <td>19.75</td>\n",
       "    </tr>\n",
       "    <tr>\n",
       "      <th>1</th>\n",
       "      <td>1909</td>\n",
       "      <td>25.47</td>\n",
       "    </tr>\n",
       "    <tr>\n",
       "      <th>2</th>\n",
       "      <td>1909</td>\n",
       "      <td>26.74</td>\n",
       "    </tr>\n",
       "    <tr>\n",
       "      <th>3</th>\n",
       "      <td>1909</td>\n",
       "      <td>20.55</td>\n",
       "    </tr>\n",
       "    <tr>\n",
       "      <th>4</th>\n",
       "      <td>1909</td>\n",
       "      <td>26.76</td>\n",
       "    </tr>\n",
       "    <tr>\n",
       "      <th>...</th>\n",
       "      <td>...</td>\n",
       "      <td>...</td>\n",
       "    </tr>\n",
       "    <tr>\n",
       "      <th>5336</th>\n",
       "      <td>2021</td>\n",
       "      <td>26.99</td>\n",
       "    </tr>\n",
       "    <tr>\n",
       "      <th>5337</th>\n",
       "      <td>2021</td>\n",
       "      <td>31.87</td>\n",
       "    </tr>\n",
       "    <tr>\n",
       "      <th>5338</th>\n",
       "      <td>2021</td>\n",
       "      <td>25.01</td>\n",
       "    </tr>\n",
       "    <tr>\n",
       "      <th>5339</th>\n",
       "      <td>2021</td>\n",
       "      <td>31.87</td>\n",
       "    </tr>\n",
       "    <tr>\n",
       "      <th>5340</th>\n",
       "      <td>2021</td>\n",
       "      <td>28.65</td>\n",
       "    </tr>\n",
       "  </tbody>\n",
       "</table>\n",
       "<p>5341 rows × 2 columns</p>\n",
       "</div>"
      ],
      "text/plain": [
       "      edition    age\n",
       "0        1909  19.75\n",
       "1        1909  25.47\n",
       "2        1909  26.74\n",
       "3        1909  20.55\n",
       "4        1909  26.76\n",
       "...       ...    ...\n",
       "5336     2021  26.99\n",
       "5337     2021  31.87\n",
       "5338     2021  25.01\n",
       "5339     2021  31.87\n",
       "5340     2021  28.65\n",
       "\n",
       "[5341 rows x 2 columns]"
      ]
     },
     "execution_count": 14,
     "metadata": {},
     "output_type": "execute_result"
    }
   ],
   "source": [
    "a"
   ]
  },
  {
   "cell_type": "code",
   "execution_count": 15,
   "id": "meaningful-probe",
   "metadata": {},
   "outputs": [
    {
     "data": {
      "text/plain": [
       "0       20.37\n",
       "1       25.32\n",
       "2       26.47\n",
       "3       25.48\n",
       "4       25.49\n",
       "        ...  \n",
       "5336    27.59\n",
       "5337    26.67\n",
       "5338    20.34\n",
       "5339    29.10\n",
       "5340    21.77\n",
       "Length: 16023, dtype: float64"
      ]
     },
     "execution_count": 15,
     "metadata": {},
     "output_type": "execute_result"
    }
   ],
   "source": [
    "ages"
   ]
  },
  {
   "cell_type": "code",
   "execution_count": 16,
   "id": "necessary-navigation",
   "metadata": {},
   "outputs": [
    {
     "data": {
      "text/plain": [
       "27.723813898262716"
      ]
     },
     "execution_count": 16,
     "metadata": {},
     "output_type": "execute_result"
    }
   ],
   "source": [
    "np.mean(ages)"
   ]
  },
  {
   "cell_type": "code",
   "execution_count": 17,
   "id": "decreased-archive",
   "metadata": {},
   "outputs": [
    {
     "data": {
      "text/plain": [
       "3.440517459418458"
      ]
     },
     "execution_count": 17,
     "metadata": {},
     "output_type": "execute_result"
    }
   ],
   "source": [
    "np.std(ages)"
   ]
  },
  {
   "cell_type": "code",
   "execution_count": 18,
   "id": "ready-neighbor",
   "metadata": {},
   "outputs": [
    {
     "data": {
      "text/plain": [
       "11.837160388563243"
      ]
     },
     "execution_count": 18,
     "metadata": {},
     "output_type": "execute_result"
    }
   ],
   "source": [
    "np.var(ages)"
   ]
  },
  {
   "cell_type": "code",
   "execution_count": 19,
   "id": "generous-shift",
   "metadata": {},
   "outputs": [
    {
     "data": {
      "text/plain": [
       "27.723813898262716"
      ]
     },
     "execution_count": 19,
     "metadata": {},
     "output_type": "execute_result"
    }
   ],
   "source": [
    "d['age'].mean()"
   ]
  },
  {
   "cell_type": "code",
   "execution_count": 20,
   "id": "statistical-doctor",
   "metadata": {},
   "outputs": [
    {
     "data": {
      "text/html": [
       "<div>\n",
       "<style scoped>\n",
       "    .dataframe tbody tr th:only-of-type {\n",
       "        vertical-align: middle;\n",
       "    }\n",
       "\n",
       "    .dataframe tbody tr th {\n",
       "        vertical-align: top;\n",
       "    }\n",
       "\n",
       "    .dataframe thead th {\n",
       "        text-align: right;\n",
       "    }\n",
       "</style>\n",
       "<table border=\"1\" class=\"dataframe\">\n",
       "  <thead>\n",
       "    <tr style=\"text-align: right;\">\n",
       "      <th></th>\n",
       "      <th>edition</th>\n",
       "      <th>age</th>\n",
       "    </tr>\n",
       "  </thead>\n",
       "  <tbody>\n",
       "    <tr>\n",
       "      <th>0</th>\n",
       "      <td>1909</td>\n",
       "      <td>19.75</td>\n",
       "    </tr>\n",
       "    <tr>\n",
       "      <th>1</th>\n",
       "      <td>1909</td>\n",
       "      <td>25.47</td>\n",
       "    </tr>\n",
       "    <tr>\n",
       "      <th>2</th>\n",
       "      <td>1909</td>\n",
       "      <td>26.74</td>\n",
       "    </tr>\n",
       "    <tr>\n",
       "      <th>3</th>\n",
       "      <td>1909</td>\n",
       "      <td>20.55</td>\n",
       "    </tr>\n",
       "    <tr>\n",
       "      <th>4</th>\n",
       "      <td>1909</td>\n",
       "      <td>26.76</td>\n",
       "    </tr>\n",
       "    <tr>\n",
       "      <th>...</th>\n",
       "      <td>...</td>\n",
       "      <td>...</td>\n",
       "    </tr>\n",
       "    <tr>\n",
       "      <th>5336</th>\n",
       "      <td>2021</td>\n",
       "      <td>26.99</td>\n",
       "    </tr>\n",
       "    <tr>\n",
       "      <th>5337</th>\n",
       "      <td>2021</td>\n",
       "      <td>31.87</td>\n",
       "    </tr>\n",
       "    <tr>\n",
       "      <th>5338</th>\n",
       "      <td>2021</td>\n",
       "      <td>25.01</td>\n",
       "    </tr>\n",
       "    <tr>\n",
       "      <th>5339</th>\n",
       "      <td>2021</td>\n",
       "      <td>31.87</td>\n",
       "    </tr>\n",
       "    <tr>\n",
       "      <th>5340</th>\n",
       "      <td>2021</td>\n",
       "      <td>28.65</td>\n",
       "    </tr>\n",
       "  </tbody>\n",
       "</table>\n",
       "<p>5341 rows × 2 columns</p>\n",
       "</div>"
      ],
      "text/plain": [
       "      edition    age\n",
       "0        1909  19.75\n",
       "1        1909  25.47\n",
       "2        1909  26.74\n",
       "3        1909  20.55\n",
       "4        1909  26.76\n",
       "...       ...    ...\n",
       "5336     2021  26.99\n",
       "5337     2021  31.87\n",
       "5338     2021  25.01\n",
       "5339     2021  31.87\n",
       "5340     2021  28.65\n",
       "\n",
       "[5341 rows x 2 columns]"
      ]
     },
     "execution_count": 20,
     "metadata": {},
     "output_type": "execute_result"
    }
   ],
   "source": [
    "a"
   ]
  },
  {
   "cell_type": "code",
   "execution_count": 601,
   "id": "weekly-setting",
   "metadata": {},
   "outputs": [
    {
     "name": "stderr",
     "output_type": "stream",
     "text": [
      "<ipython-input-601-f96905ee24c5>:23: MatplotlibDeprecationWarning: Adding an axes using the same arguments as a previous axes currently reuses the earlier instance.  In a future version, a new instance will always be created and returned.  Meanwhile, this warning can be suppressed, and the future behavior ensured, by passing a unique label to each axes instance.\n",
      "  ax = plt.axes()\n"
     ]
    },
    {
     "data": {
      "image/png": "[encoded data removed]",
      "text/plain": [
       "<Figure size 432x288 with 1 Axes>"
      ]
     },
     "metadata": {},
     "output_type": "display_data"
    }
   ],
   "source": [
    "elev_data = data[(~data['vertical_meters'].isnull()) & (data['edition'] > 1990)]\\\n",
    ".groupby(['race','edition'], as_index = False)['vertical_meters'].sum()\n",
    "plt.ylim((30000,60000))\n",
    "plt.xlim((1999,2022))\n",
    "# plt.scatter(elev_data[['edition']],elev_data['vertical_meters'])\n",
    "# sns.set_style(\"white\")\n",
    "# colors = ['#eb13ce','#dbb704','#b51212']\n",
    "# sns.set_palette(sns.color_palette(colors))\n",
    "# sns.scatterplot(data = elev_data, x = 'edition', y = 'vertical_meters', hue = 'race')\n",
    "\n",
    "t_elev = elev_data[elev_data['race'] == 'tour-de-france']\n",
    "g_elev = elev_data[elev_data['race'] == 'giro-d-italia']\n",
    "v_elev = elev_data[elev_data['race'] == 'vuelta-a-espana']\n",
    "plt.scatter(t_elev['edition'],t_elev['vertical_meters'], color = '#f9db00', s = 8, label = 'tour')\n",
    "plt.scatter(g_elev['edition'],g_elev['vertical_meters'], color = '#fb9bbd', s = 8, label = 'giro')\n",
    "plt.scatter(v_elev['edition'],v_elev['vertical_meters'], color = 'red', s = 8, label = 'vuelta')\n",
    "t_p = np.poly1d(np.polyfit(t_elev['edition'],t_elev['vertical_meters'],3))\n",
    "v_p = np.poly1d(np.polyfit(v_elev['edition'],v_elev['vertical_meters'],3))\n",
    "x = np.linspace(1999,2022,20)\n",
    "plt.plot(x,t_p(x),color = '#f9db00')\n",
    "plt.plot(x,v_p(x),color = 'red')\n",
    "plt.legend()\n",
    "ax = plt.axes()\n",
    "ax.set_ylabel('Total Elevation Gain (meters)')\n",
    "ax.set_xlabel('Year')\n",
    "ax.spines['top'].set_alpha(0)\n",
    "ax.spines['right'].set_alpha(0)\n",
    "\n",
    "\n",
    "plt.savefig(f'Seaborn_plots/elevation_data.pdf',transparent = True)\n",
    "\n"
   ]
  },
  {
   "cell_type": "code",
   "execution_count": 567,
   "id": "descending-thirty",
   "metadata": {},
   "outputs": [
    {
     "data": {
      "text/html": [
       "<div>\n",
       "<style scoped>\n",
       "    .dataframe tbody tr th:only-of-type {\n",
       "        vertical-align: middle;\n",
       "    }\n",
       "\n",
       "    .dataframe tbody tr th {\n",
       "        vertical-align: top;\n",
       "    }\n",
       "\n",
       "    .dataframe thead th {\n",
       "        text-align: right;\n",
       "    }\n",
       "</style>\n",
       "<table border=\"1\" class=\"dataframe\">\n",
       "  <thead>\n",
       "    <tr style=\"text-align: right;\">\n",
       "      <th></th>\n",
       "      <th>race</th>\n",
       "      <th>edition</th>\n",
       "      <th>vertical_meters</th>\n",
       "    </tr>\n",
       "  </thead>\n",
       "  <tbody>\n",
       "    <tr>\n",
       "      <th>0</th>\n",
       "      <td>giro-d-italia</td>\n",
       "      <td>2000</td>\n",
       "      <td>47042.0</td>\n",
       "    </tr>\n",
       "    <tr>\n",
       "      <th>1</th>\n",
       "      <td>giro-d-italia</td>\n",
       "      <td>2014</td>\n",
       "      <td>6400.0</td>\n",
       "    </tr>\n",
       "    <tr>\n",
       "      <th>2</th>\n",
       "      <td>giro-d-italia</td>\n",
       "      <td>2015</td>\n",
       "      <td>2400.0</td>\n",
       "    </tr>\n",
       "    <tr>\n",
       "      <th>3</th>\n",
       "      <td>giro-d-italia</td>\n",
       "      <td>2016</td>\n",
       "      <td>13300.0</td>\n",
       "    </tr>\n",
       "    <tr>\n",
       "      <th>4</th>\n",
       "      <td>giro-d-italia</td>\n",
       "      <td>2018</td>\n",
       "      <td>46229.0</td>\n",
       "    </tr>\n",
       "    <tr>\n",
       "      <th>5</th>\n",
       "      <td>giro-d-italia</td>\n",
       "      <td>2019</td>\n",
       "      <td>46114.0</td>\n",
       "    </tr>\n",
       "    <tr>\n",
       "      <th>6</th>\n",
       "      <td>giro-d-italia</td>\n",
       "      <td>2020</td>\n",
       "      <td>55012.0</td>\n",
       "    </tr>\n",
       "    <tr>\n",
       "      <th>7</th>\n",
       "      <td>giro-d-italia</td>\n",
       "      <td>2021</td>\n",
       "      <td>47496.0</td>\n",
       "    </tr>\n",
       "    <tr>\n",
       "      <th>8</th>\n",
       "      <td>tour-de-france</td>\n",
       "      <td>2005</td>\n",
       "      <td>47141.0</td>\n",
       "    </tr>\n",
       "    <tr>\n",
       "      <th>9</th>\n",
       "      <td>tour-de-france</td>\n",
       "      <td>2006</td>\n",
       "      <td>44954.0</td>\n",
       "    </tr>\n",
       "    <tr>\n",
       "      <th>10</th>\n",
       "      <td>tour-de-france</td>\n",
       "      <td>2007</td>\n",
       "      <td>47182.0</td>\n",
       "    </tr>\n",
       "    <tr>\n",
       "      <th>11</th>\n",
       "      <td>tour-de-france</td>\n",
       "      <td>2008</td>\n",
       "      <td>47740.0</td>\n",
       "    </tr>\n",
       "    <tr>\n",
       "      <th>12</th>\n",
       "      <td>tour-de-france</td>\n",
       "      <td>2009</td>\n",
       "      <td>48456.0</td>\n",
       "    </tr>\n",
       "    <tr>\n",
       "      <th>13</th>\n",
       "      <td>tour-de-france</td>\n",
       "      <td>2010</td>\n",
       "      <td>49426.0</td>\n",
       "    </tr>\n",
       "    <tr>\n",
       "      <th>14</th>\n",
       "      <td>tour-de-france</td>\n",
       "      <td>2011</td>\n",
       "      <td>51711.0</td>\n",
       "    </tr>\n",
       "    <tr>\n",
       "      <th>15</th>\n",
       "      <td>tour-de-france</td>\n",
       "      <td>2012</td>\n",
       "      <td>47938.0</td>\n",
       "    </tr>\n",
       "    <tr>\n",
       "      <th>16</th>\n",
       "      <td>tour-de-france</td>\n",
       "      <td>2013</td>\n",
       "      <td>50283.0</td>\n",
       "    </tr>\n",
       "    <tr>\n",
       "      <th>17</th>\n",
       "      <td>tour-de-france</td>\n",
       "      <td>2014</td>\n",
       "      <td>50421.0</td>\n",
       "    </tr>\n",
       "    <tr>\n",
       "      <th>18</th>\n",
       "      <td>tour-de-france</td>\n",
       "      <td>2015</td>\n",
       "      <td>42487.0</td>\n",
       "    </tr>\n",
       "    <tr>\n",
       "      <th>19</th>\n",
       "      <td>tour-de-france</td>\n",
       "      <td>2016</td>\n",
       "      <td>51088.0</td>\n",
       "    </tr>\n",
       "    <tr>\n",
       "      <th>20</th>\n",
       "      <td>tour-de-france</td>\n",
       "      <td>2017</td>\n",
       "      <td>47312.0</td>\n",
       "    </tr>\n",
       "    <tr>\n",
       "      <th>21</th>\n",
       "      <td>tour-de-france</td>\n",
       "      <td>2018</td>\n",
       "      <td>46349.0</td>\n",
       "    </tr>\n",
       "    <tr>\n",
       "      <th>22</th>\n",
       "      <td>tour-de-france</td>\n",
       "      <td>2019</td>\n",
       "      <td>52056.0</td>\n",
       "    </tr>\n",
       "    <tr>\n",
       "      <th>23</th>\n",
       "      <td>tour-de-france</td>\n",
       "      <td>2020</td>\n",
       "      <td>58838.0</td>\n",
       "    </tr>\n",
       "    <tr>\n",
       "      <th>24</th>\n",
       "      <td>tour-de-france</td>\n",
       "      <td>2021</td>\n",
       "      <td>51153.0</td>\n",
       "    </tr>\n",
       "    <tr>\n",
       "      <th>25</th>\n",
       "      <td>vuelta-a-espana</td>\n",
       "      <td>2001</td>\n",
       "      <td>36552.0</td>\n",
       "    </tr>\n",
       "    <tr>\n",
       "      <th>26</th>\n",
       "      <td>vuelta-a-espana</td>\n",
       "      <td>2002</td>\n",
       "      <td>42639.0</td>\n",
       "    </tr>\n",
       "    <tr>\n",
       "      <th>27</th>\n",
       "      <td>vuelta-a-espana</td>\n",
       "      <td>2003</td>\n",
       "      <td>39302.0</td>\n",
       "    </tr>\n",
       "    <tr>\n",
       "      <th>28</th>\n",
       "      <td>vuelta-a-espana</td>\n",
       "      <td>2004</td>\n",
       "      <td>42323.0</td>\n",
       "    </tr>\n",
       "    <tr>\n",
       "      <th>29</th>\n",
       "      <td>vuelta-a-espana</td>\n",
       "      <td>2005</td>\n",
       "      <td>47534.0</td>\n",
       "    </tr>\n",
       "    <tr>\n",
       "      <th>30</th>\n",
       "      <td>vuelta-a-espana</td>\n",
       "      <td>2006</td>\n",
       "      <td>46838.0</td>\n",
       "    </tr>\n",
       "    <tr>\n",
       "      <th>31</th>\n",
       "      <td>vuelta-a-espana</td>\n",
       "      <td>2007</td>\n",
       "      <td>44116.0</td>\n",
       "    </tr>\n",
       "    <tr>\n",
       "      <th>32</th>\n",
       "      <td>vuelta-a-espana</td>\n",
       "      <td>2008</td>\n",
       "      <td>45168.0</td>\n",
       "    </tr>\n",
       "    <tr>\n",
       "      <th>33</th>\n",
       "      <td>vuelta-a-espana</td>\n",
       "      <td>2009</td>\n",
       "      <td>47930.0</td>\n",
       "    </tr>\n",
       "    <tr>\n",
       "      <th>34</th>\n",
       "      <td>vuelta-a-espana</td>\n",
       "      <td>2010</td>\n",
       "      <td>51218.0</td>\n",
       "    </tr>\n",
       "    <tr>\n",
       "      <th>35</th>\n",
       "      <td>vuelta-a-espana</td>\n",
       "      <td>2011</td>\n",
       "      <td>53449.0</td>\n",
       "    </tr>\n",
       "    <tr>\n",
       "      <th>36</th>\n",
       "      <td>vuelta-a-espana</td>\n",
       "      <td>2012</td>\n",
       "      <td>50418.0</td>\n",
       "    </tr>\n",
       "    <tr>\n",
       "      <th>37</th>\n",
       "      <td>vuelta-a-espana</td>\n",
       "      <td>2013</td>\n",
       "      <td>51274.0</td>\n",
       "    </tr>\n",
       "    <tr>\n",
       "      <th>38</th>\n",
       "      <td>vuelta-a-espana</td>\n",
       "      <td>2014</td>\n",
       "      <td>49685.0</td>\n",
       "    </tr>\n",
       "    <tr>\n",
       "      <th>39</th>\n",
       "      <td>vuelta-a-espana</td>\n",
       "      <td>2015</td>\n",
       "      <td>52924.0</td>\n",
       "    </tr>\n",
       "    <tr>\n",
       "      <th>40</th>\n",
       "      <td>vuelta-a-espana</td>\n",
       "      <td>2016</td>\n",
       "      <td>56892.0</td>\n",
       "    </tr>\n",
       "    <tr>\n",
       "      <th>41</th>\n",
       "      <td>vuelta-a-espana</td>\n",
       "      <td>2017</td>\n",
       "      <td>51911.0</td>\n",
       "    </tr>\n",
       "    <tr>\n",
       "      <th>42</th>\n",
       "      <td>vuelta-a-espana</td>\n",
       "      <td>2018</td>\n",
       "      <td>54619.0</td>\n",
       "    </tr>\n",
       "    <tr>\n",
       "      <th>43</th>\n",
       "      <td>vuelta-a-espana</td>\n",
       "      <td>2019</td>\n",
       "      <td>55579.0</td>\n",
       "    </tr>\n",
       "    <tr>\n",
       "      <th>44</th>\n",
       "      <td>vuelta-a-espana</td>\n",
       "      <td>2020</td>\n",
       "      <td>49760.0</td>\n",
       "    </tr>\n",
       "    <tr>\n",
       "      <th>45</th>\n",
       "      <td>vuelta-a-espana</td>\n",
       "      <td>2021</td>\n",
       "      <td>52448.0</td>\n",
       "    </tr>\n",
       "  </tbody>\n",
       "</table>\n",
       "</div>"
      ],
      "text/plain": [
       "               race  edition  vertical_meters\n",
       "0     giro-d-italia     2000          47042.0\n",
       "1     giro-d-italia     2014           6400.0\n",
       "2     giro-d-italia     2015           2400.0\n",
       "3     giro-d-italia     2016          13300.0\n",
       "4     giro-d-italia     2018          46229.0\n",
       "5     giro-d-italia     2019          46114.0\n",
       "6     giro-d-italia     2020          55012.0\n",
       "7     giro-d-italia     2021          47496.0\n",
       "8    tour-de-france     2005          47141.0\n",
       "9    tour-de-france     2006          44954.0\n",
       "10   tour-de-france     2007          47182.0\n",
       "11   tour-de-france     2008          47740.0\n",
       "12   tour-de-france     2009          48456.0\n",
       "13   tour-de-france     2010          49426.0\n",
       "14   tour-de-france     2011          51711.0\n",
       "15   tour-de-france     2012          47938.0\n",
       "16   tour-de-france     2013          50283.0\n",
       "17   tour-de-france     2014          50421.0\n",
       "18   tour-de-france     2015          42487.0\n",
       "19   tour-de-france     2016          51088.0\n",
       "20   tour-de-france     2017          47312.0\n",
       "21   tour-de-france     2018          46349.0\n",
       "22   tour-de-france     2019          52056.0\n",
       "23   tour-de-france     2020          58838.0\n",
       "24   tour-de-france     2021          51153.0\n",
       "25  vuelta-a-espana     2001          36552.0\n",
       "26  vuelta-a-espana     2002          42639.0\n",
       "27  vuelta-a-espana     2003          39302.0\n",
       "28  vuelta-a-espana     2004          42323.0\n",
       "29  vuelta-a-espana     2005          47534.0\n",
       "30  vuelta-a-espana     2006          46838.0\n",
       "31  vuelta-a-espana     2007          44116.0\n",
       "32  vuelta-a-espana     2008          45168.0\n",
       "33  vuelta-a-espana     2009          47930.0\n",
       "34  vuelta-a-espana     2010          51218.0\n",
       "35  vuelta-a-espana     2011          53449.0\n",
       "36  vuelta-a-espana     2012          50418.0\n",
       "37  vuelta-a-espana     2013          51274.0\n",
       "38  vuelta-a-espana     2014          49685.0\n",
       "39  vuelta-a-espana     2015          52924.0\n",
       "40  vuelta-a-espana     2016          56892.0\n",
       "41  vuelta-a-espana     2017          51911.0\n",
       "42  vuelta-a-espana     2018          54619.0\n",
       "43  vuelta-a-espana     2019          55579.0\n",
       "44  vuelta-a-espana     2020          49760.0\n",
       "45  vuelta-a-espana     2021          52448.0"
      ]
     },
     "execution_count": 567,
     "metadata": {},
     "output_type": "execute_result"
    }
   ],
   "source": [
    "elev_data"
   ]
  },
  {
   "cell_type": "code",
   "execution_count": null,
   "id": "relevant-appraisal",
   "metadata": {},
   "outputs": [],
   "source": []
  },
  {
   "cell_type": "code",
   "execution_count": 23,
   "id": "featured-mainstream",
   "metadata": {},
   "outputs": [],
   "source": [
    "a = data[['edition','second_age_when_won']].rename({'second_age_when_won' : 'age'},axis = 1)\n",
    "b = data[['edition','winner_age_when_won']].rename({'winner_age_when_won' : 'age'},axis = 1)\n",
    "c = data[['edition','third_age_when_won']].rename({'third_age_when_won' : 'age'},axis = 1)\n",
    "all_age_data = pd.concat([a,b,c])"
   ]
  },
  {
   "cell_type": "code",
   "execution_count": null,
   "id": "interior-spirit",
   "metadata": {},
   "outputs": [],
   "source": []
  },
  {
   "cell_type": "code",
   "execution_count": 24,
   "id": "circular-frontier",
   "metadata": {},
   "outputs": [
    {
     "data": {
      "image/png": "[encoded data removed]",
      "text/plain": [
       "<Figure size 432x288 with 1 Axes>"
      ]
     },
     "metadata": {
      "needs_background": "light"
     },
     "output_type": "display_data"
    }
   ],
   "source": [
    "plt.hist(data = data, x ='winner_age_when_won', bins = 30,alpha = .5, label = '1st')\n",
    "plt.hist(data = data, x = 'second_age_when_won',bins = 30, alpha = .5, label = '2nd')\n",
    "plt.hist(data = data, x = 'third_age_when_won', bins = 30, alpha = .5, label = '3rd')\n",
    "plt.legend()\n",
    "plt.show()"
   ]
  },
  {
   "cell_type": "code",
   "execution_count": 243,
   "id": "operational-vietnam",
   "metadata": {},
   "outputs": [
    {
     "data": {
      "text/html": [
       "<div>\n",
       "<style scoped>\n",
       "    .dataframe tbody tr th:only-of-type {\n",
       "        vertical-align: middle;\n",
       "    }\n",
       "\n",
       "    .dataframe tbody tr th {\n",
       "        vertical-align: top;\n",
       "    }\n",
       "\n",
       "    .dataframe thead th {\n",
       "        text-align: right;\n",
       "    }\n",
       "</style>\n",
       "<table border=\"1\" class=\"dataframe\">\n",
       "  <thead>\n",
       "    <tr style=\"text-align: right;\">\n",
       "      <th></th>\n",
       "      <th>race</th>\n",
       "      <th>year</th>\n",
       "      <th>edition</th>\n",
       "      <th>first_age</th>\n",
       "      <th>second_age</th>\n",
       "      <th>third_age</th>\n",
       "      <th>first_weight</th>\n",
       "      <th>second_weight</th>\n",
       "      <th>third_weight</th>\n",
       "    </tr>\n",
       "  </thead>\n",
       "  <tbody>\n",
       "    <tr>\n",
       "      <th>107</th>\n",
       "      <td>milano-sanremo</td>\n",
       "      <td>2017</td>\n",
       "      <td>108</td>\n",
       "      <td>26.81</td>\n",
       "      <td>27.16</td>\n",
       "      <td>24.78</td>\n",
       "      <td>68.0</td>\n",
       "      <td>78.0</td>\n",
       "      <td>62.0</td>\n",
       "    </tr>\n",
       "    <tr>\n",
       "      <th>108</th>\n",
       "      <td>milano-sanremo</td>\n",
       "      <td>2018</td>\n",
       "      <td>109</td>\n",
       "      <td>33.36</td>\n",
       "      <td>23.70</td>\n",
       "      <td>26.58</td>\n",
       "      <td>65.0</td>\n",
       "      <td>69.0</td>\n",
       "      <td>76.0</td>\n",
       "    </tr>\n",
       "    <tr>\n",
       "      <th>109</th>\n",
       "      <td>milano-sanremo</td>\n",
       "      <td>2019</td>\n",
       "      <td>110</td>\n",
       "      <td>26.80</td>\n",
       "      <td>28.53</td>\n",
       "      <td>28.82</td>\n",
       "      <td>62.0</td>\n",
       "      <td>72.0</td>\n",
       "      <td>68.0</td>\n",
       "    </tr>\n",
       "    <tr>\n",
       "      <th>110</th>\n",
       "      <td>milano-sanremo</td>\n",
       "      <td>2020</td>\n",
       "      <td>111</td>\n",
       "      <td>25.92</td>\n",
       "      <td>28.18</td>\n",
       "      <td>29.89</td>\n",
       "      <td>78.0</td>\n",
       "      <td>62.0</td>\n",
       "      <td>72.0</td>\n",
       "    </tr>\n",
       "    <tr>\n",
       "      <th>111</th>\n",
       "      <td>milano-sanremo</td>\n",
       "      <td>2021</td>\n",
       "      <td>112</td>\n",
       "      <td>28.94</td>\n",
       "      <td>26.71</td>\n",
       "      <td>26.53</td>\n",
       "      <td>78.0</td>\n",
       "      <td>69.0</td>\n",
       "      <td>78.0</td>\n",
       "    </tr>\n",
       "  </tbody>\n",
       "</table>\n",
       "</div>"
      ],
      "text/plain": [
       "               race  year  edition  first_age  second_age  third_age  \\\n",
       "107  milano-sanremo  2017      108      26.81       27.16      24.78   \n",
       "108  milano-sanremo  2018      109      33.36       23.70      26.58   \n",
       "109  milano-sanremo  2019      110      26.80       28.53      28.82   \n",
       "110  milano-sanremo  2020      111      25.92       28.18      29.89   \n",
       "111  milano-sanremo  2021      112      28.94       26.71      26.53   \n",
       "\n",
       "     first_weight  second_weight  third_weight  \n",
       "107          68.0           78.0          62.0  \n",
       "108          65.0           69.0          76.0  \n",
       "109          62.0           72.0          68.0  \n",
       "110          78.0           62.0          72.0  \n",
       "111          78.0           69.0          78.0  "
      ]
     },
     "execution_count": 243,
     "metadata": {},
     "output_type": "execute_result"
    }
   ],
   "source": [
    "test = pd.read_csv('milano-sanremo.csv')\n",
    "test.tail()"
   ]
  },
  {
   "cell_type": "code",
   "execution_count": 245,
   "id": "weird-newton",
   "metadata": {},
   "outputs": [],
   "source": [
    "msr = pd.read_csv('milano-sanremo.csv')\n",
    "agr = pd.read_csv('amstel-gold-race.csv')\n",
    "il = pd.read_csv('il-lombardia.csv')\n",
    "lfw = pd.read_csv('la-fleche-wallone.csv')\n",
    "lbl = pd.read_csv('liege-bastogne-liege.csv')\n",
    "ta = pd.read_csv('tirreno-adriatico.csv')\n",
    "pr = pd.read_csv('paris-roubaix.csv')"
   ]
  },
  {
   "cell_type": "code",
   "execution_count": 246,
   "id": "respective-asset",
   "metadata": {},
   "outputs": [],
   "source": [
    "monuments = pd.concat([msr,agr,il,lfw,lbl,ta,pr],ignore_index = True)"
   ]
  },
  {
   "cell_type": "code",
   "execution_count": 247,
   "id": "theoretical-veteran",
   "metadata": {},
   "outputs": [
    {
     "data": {
      "text/plain": [
       "(650, 9)"
      ]
     },
     "execution_count": 247,
     "metadata": {},
     "output_type": "execute_result"
    }
   ],
   "source": [
    "monuments.shape"
   ]
  },
  {
   "cell_type": "markdown",
   "id": "behavioral-dragon",
   "metadata": {},
   "source": [
    "monuments.head()"
   ]
  },
  {
   "cell_type": "code",
   "execution_count": 445,
   "id": "bacterial-grove",
   "metadata": {},
   "outputs": [],
   "source": [
    "def collapse_age_cols(df):\n",
    "    return pd.concat([df['first_age']\\\n",
    "               ,df['second_age'],df['third_age']])\n",
    "    \n",
    "sns.set_style('white')\n",
    "def make_age_plot(l,name,clr = '#a30202',palette = 'Blues_r',save = False):\n",
    "    sns.set_palette(palette)\n",
    "\n",
    "    p = sns.histplot(l,bins = 20,kde= True,color = clr)\n",
    "    sns.despine()\n",
    "    p.set_xlabel('Age (years)')\n",
    "    p.set_ylabel('Number of Wins')\n",
    "    x_c = 30\n",
    "    p.text(x_c,9,name,weight = 'semibold',size = 14)\n",
    "    p.text(x_c,8,'Mean : {} yrs'.format(round(l.mean(),2)),size = 15)\n",
    "    p.text(x_c,7,'StdD : {} yrs'.format(round(l.std(),2)),size = 15)\n",
    "    print(type(p))\n",
    "    if save:\n",
    "        plt.savefig(f'Seaborn_plots/age_histograms/{name}_age_plot.png')\n",
    "    \n",
    "    "
   ]
  },
  {
   "cell_type": "code",
   "execution_count": 447,
   "id": "conservative-battery",
   "metadata": {},
   "outputs": [
    {
     "name": "stdout",
     "output_type": "stream",
     "text": [
      "<class 'matplotlib.axes._subplots.AxesSubplot'>\n"
     ]
    },
    {
     "data": {
      "image/png": "[encoded data removed]",
      "text/plain": [
       "<Figure size 432x288 with 1 Axes>"
      ]
     },
     "metadata": {},
     "output_type": "display_data"
    }
   ],
   "source": [
    "headers = ['race','year','edition','age','weight']\n",
    "gc_giro = pd.read_csv('giro-d-italia_gc_final_results_info.csv',names = headers)\n",
    "make_age_plot(gc_giro['age'],'Giro d\\'Italia',clr = '#c934a9',save = True)\n",
    "                      "
   ]
  },
  {
   "cell_type": "code",
   "execution_count": 441,
   "id": "theoretical-spank",
   "metadata": {},
   "outputs": [
    {
     "name": "stdout",
     "output_type": "stream",
     "text": [
      "<class 'matplotlib.axes._subplots.AxesSubplot'>\n"
     ]
    },
    {
     "data": {
      "image/png": "[encoded data removed]",
      "text/plain": [
       "<Figure size 432x288 with 1 Axes>"
      ]
     },
     "metadata": {},
     "output_type": "display_data"
    }
   ],
   "source": [
    "headers = ['race','year','edition','age','weight']\n",
    "gc_tour = pd.read_csv('tour-de-france_gc_final_results_info.csv',names = headers)\n",
    "make_age_plot(gc_tour['age'],'Tour de France',clr = '#d4b115',save = True)\n",
    "                      \n"
   ]
  },
  {
   "cell_type": "code",
   "execution_count": 425,
   "id": "systematic-afghanistan",
   "metadata": {},
   "outputs": [
    {
     "name": "stdout",
     "output_type": "stream",
     "text": [
      "<class 'matplotlib.axes._subplots.AxesSubplot'>\n"
     ]
    },
    {
     "data": {
      "image/png": "[encoded data removed]",
      "text/plain": [
       "<Figure size 432x288 with 1 Axes>"
      ]
     },
     "metadata": {},
     "output_type": "display_data"
    }
   ],
   "source": [
    "make_age_plot(gc_vuelta['age'],'Vuelta A Espana',save = True)"
   ]
  },
  {
   "cell_type": "code",
   "execution_count": null,
   "id": "worse-making",
   "metadata": {},
   "outputs": [],
   "source": []
  },
  {
   "cell_type": "code",
   "execution_count": 379,
   "id": "transparent-tunnel",
   "metadata": {},
   "outputs": [
    {
     "name": "stdout",
     "output_type": "stream",
     "text": [
      "<class 'matplotlib.axes._subplots.AxesSubplot'>\n"
     ]
    },
    {
     "data": {
      "image/png": "[encoded data removed]",
      "text/plain": [
       "<Figure size 432x288 with 1 Axes>"
      ]
     },
     "metadata": {
      "needs_background": "light"
     },
     "output_type": "display_data"
    }
   ],
   "source": [
    "p = collapse_cols(pr)\n",
    "make_age_plot(p,'Paris Roubaix',save = True)\n"
   ]
  },
  {
   "cell_type": "code",
   "execution_count": 110,
   "id": "painful-walnut",
   "metadata": {},
   "outputs": [
    {
     "name": "stdout",
     "output_type": "stream",
     "text": [
      "Mean : 27.927254901960783\n",
      "Std : 4.03759150864407\n",
      "Var : 16.302145190674697\n",
      "Mode : 0    25.15\n",
      "dtype: float64\n"
     ]
    },
    {
     "data": {
      "image/png": "[encoded data removed]",
      "text/plain": [
       "<Figure size 432x288 with 1 Axes>"
      ]
     },
     "metadata": {
      "needs_background": "light"
     },
     "output_type": "display_data"
    }
   ],
   "source": [
    "la_fleche = collapse_cols(lfw)\n",
    "sns.histplot(la_fleche, bins = 20,kde = True)\n",
    "show_stats(la_fleche)"
   ]
  },
  {
   "cell_type": "code",
   "execution_count": 344,
   "id": "analyzed-crazy",
   "metadata": {},
   "outputs": [],
   "source": [
    "def collapse_weight_cols(df):\n",
    "    return pd.concat([df['first_weight']\\\n",
    "               ,df['second_weight'],df['third_weight']])\n",
    "\n",
    "def make_weight_plot(l,name,palette = 'flare_r',save = False):\n",
    "    sns.set_palette(palette)\n",
    "\n",
    "    p = sns.histplot(l,bins = 20,kde= True)\n",
    "    sns.despine()\n",
    "    p.set_xlabel('Weight (kg)')\n",
    "    p.set_ylabel('Number of Wins')\n",
    "    x_c = 76\n",
    "    p.text(x_c,17,name,weight = 'semibold',size = 14)\n",
    "    p.text(x_c,15.5,'Mean : {} kg'.format(round(l.mean(),2)),size = 15)\n",
    "    p.text(x_c,14,'StdD : {} kg'.format(round(l.std(),2)),size = 15)\n",
    "    if save:\n",
    "        plt.savefig(f'Seaborn_plots/weight_histograms/{name}_weight_plot.png')\n",
    "    "
   ]
  },
  {
   "cell_type": "code",
   "execution_count": 480,
   "id": "passing-basin",
   "metadata": {},
   "outputs": [
    {
     "data": {
      "image/png": "[encoded data removed]",
      "text/plain": [
       "<Figure size 432x288 with 1 Axes>"
      ]
     },
     "metadata": {},
     "output_type": "display_data"
    }
   ],
   "source": [
    "make_weight_plot(gc_giro['weight'], 'Tour de France')"
   ]
  },
  {
   "cell_type": "code",
   "execution_count": 346,
   "id": "clean-utilization",
   "metadata": {},
   "outputs": [
    {
     "data": {
      "image/png": "[encoded data removed]",
      "text/plain": [
       "<Figure size 432x288 with 1 Axes>"
      ]
     },
     "metadata": {
      "needs_background": "light"
     },
     "output_type": "display_data"
    }
   ],
   "source": [
    "lfw_weights = collapse_weight_cols(lfw)\n",
    "make_weight_plot(lfw_weights, 'La Fleche Wallone',save = True)"
   ]
  },
  {
   "cell_type": "code",
   "execution_count": 335,
   "id": "changed-framework",
   "metadata": {},
   "outputs": [
    {
     "data": {
      "image/png": "[encoded data removed]",
      "text/plain": [
       "<Figure size 432x288 with 1 Axes>"
      ]
     },
     "metadata": {
      "needs_background": "light"
     },
     "output_type": "display_data"
    }
   ],
   "source": [
    "lbl_weight = collapse_weight_cols(lbl)\n",
    "make_weight_plot(lbl_weight,'Liege Bastogne Liege',save = True)"
   ]
  },
  {
   "cell_type": "code",
   "execution_count": 326,
   "id": "gentle-attention",
   "metadata": {},
   "outputs": [
    {
     "data": {
      "image/png": "[encoded data removed]",
      "text/plain": [
       "<Figure size 432x288 with 1 Axes>"
      ]
     },
     "metadata": {
      "needs_background": "light"
     },
     "output_type": "display_data"
    }
   ],
   "source": [
    "agr_weight = collapse_weight_cols(agr)\n",
    "make_weight_plot(agr_weight,'Amstel Gold Race',save = True)"
   ]
  },
  {
   "cell_type": "code",
   "execution_count": 307,
   "id": "transparent-tourist",
   "metadata": {},
   "outputs": [
    {
     "data": {
      "image/png": "[encoded data removed]",
      "text/plain": [
       "<Figure size 432x288 with 1 Axes>"
      ]
     },
     "metadata": {
      "needs_background": "light"
     },
     "output_type": "display_data"
    }
   ],
   "source": [
    "il_weight = collapse_weight_cols(il)\n",
    "make_weight_plot(il_weight,'Il Lombardia',save = True)"
   ]
  },
  {
   "cell_type": "code",
   "execution_count": 310,
   "id": "fallen-billion",
   "metadata": {},
   "outputs": [
    {
     "data": {
      "image/png": "[encoded data removed]",
      "text/plain": [
       "<Figure size 432x288 with 1 Axes>"
      ]
     },
     "metadata": {
      "needs_background": "light"
     },
     "output_type": "display_data"
    }
   ],
   "source": [
    "pr_weight = collapse_weight_cols(pr)\n",
    "make_weight_plot(pr_weight,'Paris Roubaix',save = True)"
   ]
  },
  {
   "cell_type": "code",
   "execution_count": 313,
   "id": "adjacent-motel",
   "metadata": {
    "scrolled": false
   },
   "outputs": [
    {
     "data": {
      "image/png": "[encoded data removed]",
      "text/plain": [
       "<Figure size 432x288 with 1 Axes>"
      ]
     },
     "metadata": {
      "needs_background": "light"
     },
     "output_type": "display_data"
    }
   ],
   "source": [
    "msr_weight = collapse_weight_cols(msr)\n",
    "make_weight_plot(msr_weight,'Milano Sanremo',save = True)"
   ]
  },
  {
   "cell_type": "code",
   "execution_count": 390,
   "id": "divided-process",
   "metadata": {},
   "outputs": [],
   "source": [
    "headers = ['race','year','edition','age','weight']\n",
    "gc_vuelta = pd.read_csv('vuelta-a-espana_gc_final_results_info.csv',names = headers)\n"
   ]
  },
  {
   "cell_type": "code",
   "execution_count": 391,
   "id": "central-machinery",
   "metadata": {},
   "outputs": [
    {
     "data": {
      "text/html": [
       "<div>\n",
       "<style scoped>\n",
       "    .dataframe tbody tr th:only-of-type {\n",
       "        vertical-align: middle;\n",
       "    }\n",
       "\n",
       "    .dataframe tbody tr th {\n",
       "        vertical-align: top;\n",
       "    }\n",
       "\n",
       "    .dataframe thead th {\n",
       "        text-align: right;\n",
       "    }\n",
       "</style>\n",
       "<table border=\"1\" class=\"dataframe\">\n",
       "  <thead>\n",
       "    <tr style=\"text-align: right;\">\n",
       "      <th></th>\n",
       "      <th>race</th>\n",
       "      <th>year</th>\n",
       "      <th>edition</th>\n",
       "      <th>age</th>\n",
       "      <th>weight</th>\n",
       "    </tr>\n",
       "  </thead>\n",
       "  <tbody>\n",
       "    <tr>\n",
       "      <th>0</th>\n",
       "      <td>vuelta-a-espana</td>\n",
       "      <td>1935</td>\n",
       "      <td>1</td>\n",
       "      <td>21.90</td>\n",
       "      <td>79.0</td>\n",
       "    </tr>\n",
       "    <tr>\n",
       "      <th>1</th>\n",
       "      <td>vuelta-a-espana</td>\n",
       "      <td>1936</td>\n",
       "      <td>2</td>\n",
       "      <td>22.93</td>\n",
       "      <td>79.0</td>\n",
       "    </tr>\n",
       "    <tr>\n",
       "      <th>2</th>\n",
       "      <td>vuelta-a-espana</td>\n",
       "      <td>1941</td>\n",
       "      <td>3</td>\n",
       "      <td>29.25</td>\n",
       "      <td>63.0</td>\n",
       "    </tr>\n",
       "    <tr>\n",
       "      <th>3</th>\n",
       "      <td>vuelta-a-espana</td>\n",
       "      <td>1942</td>\n",
       "      <td>4</td>\n",
       "      <td>30.29</td>\n",
       "      <td>63.0</td>\n",
       "    </tr>\n",
       "    <tr>\n",
       "      <th>4</th>\n",
       "      <td>vuelta-a-espana</td>\n",
       "      <td>1945</td>\n",
       "      <td>5</td>\n",
       "      <td>29.13</td>\n",
       "      <td>NaN</td>\n",
       "    </tr>\n",
       "  </tbody>\n",
       "</table>\n",
       "</div>"
      ],
      "text/plain": [
       "              race  year  edition    age  weight\n",
       "0  vuelta-a-espana  1935        1  21.90    79.0\n",
       "1  vuelta-a-espana  1936        2  22.93    79.0\n",
       "2  vuelta-a-espana  1941        3  29.25    63.0\n",
       "3  vuelta-a-espana  1942        4  30.29    63.0\n",
       "4  vuelta-a-espana  1945        5  29.13     NaN"
      ]
     },
     "execution_count": 391,
     "metadata": {},
     "output_type": "execute_result"
    }
   ],
   "source": [
    "gc_vuelta.head()"
   ]
  },
  {
   "cell_type": "code",
   "execution_count": 393,
   "id": "conscious-aerospace",
   "metadata": {},
   "outputs": [
    {
     "name": "stdout",
     "output_type": "stream",
     "text": [
      "<class 'matplotlib.axes._subplots.AxesSubplot'>\n"
     ]
    },
    {
     "data": {
      "image/png": "[encoded data removed]",
      "text/plain": [
       "<Figure size 432x288 with 1 Axes>"
      ]
     },
     "metadata": {
      "needs_background": "light"
     },
     "output_type": "display_data"
    }
   ],
   "source": [
    "make_age_plot(gc_vuelta['age'],'Vuelta A Espana')"
   ]
  },
  {
   "cell_type": "code",
   "execution_count": 455,
   "id": "immune-excess",
   "metadata": {},
   "outputs": [
    {
     "data": {
      "text/plain": [
       "0.16666666666666666"
      ]
     },
     "execution_count": 455,
     "metadata": {},
     "output_type": "execute_result"
    }
   ],
   "source": [
    "msr_age = collapse_age_cols(msr)\n",
    "msr_age[msr_age < 24].count() / msr_age.count()"
   ]
  },
  {
   "cell_type": "raw",
   "id": "packed-timber",
   "metadata": {},
   "source": [
    "pr"
   ]
  },
  {
   "cell_type": "code",
   "execution_count": 459,
   "id": "historical-jefferson",
   "metadata": {},
   "outputs": [
    {
     "data": {
      "text/plain": [
       "0.16477272727272727"
      ]
     },
     "execution_count": 459,
     "metadata": {},
     "output_type": "execute_result"
    }
   ],
   "source": [
    "pr_age = collapse_age_cols(pr)\n",
    "pr_age[pr_age < 24].count()/pr_age.count()"
   ]
  },
  {
   "cell_type": "code",
   "execution_count": 461,
   "id": "turkish-sampling",
   "metadata": {},
   "outputs": [
    {
     "data": {
      "text/plain": [
       "0.21739130434782608"
      ]
     },
     "execution_count": 461,
     "metadata": {},
     "output_type": "execute_result"
    }
   ],
   "source": [
    "il_age = collapse_age_cols(il)\n",
    "il_age[il_age < 24].count()/il_age.count()"
   ]
  },
  {
   "cell_type": "code",
   "execution_count": 463,
   "id": "nutritional-motivation",
   "metadata": {},
   "outputs": [
    {
     "data": {
      "text/plain": [
       "0.12121212121212122"
      ]
     },
     "execution_count": 463,
     "metadata": {},
     "output_type": "execute_result"
    }
   ],
   "source": [
    "agr_age = collapse_age_cols(agr)\n",
    "agr_age[agr_age < 24].count()/agr_age.count()"
   ]
  },
  {
   "cell_type": "code",
   "execution_count": 464,
   "id": "armed-valve",
   "metadata": {},
   "outputs": [
    {
     "data": {
      "text/plain": [
       "0.21498371335504887"
      ]
     },
     "execution_count": 464,
     "metadata": {},
     "output_type": "execute_result"
    }
   ],
   "source": [
    "lbl_age = collapse_age_cols(lbl)\n",
    "lbl_age[lbl_age < 24].count()/lbl_age.count()"
   ]
  },
  {
   "cell_type": "code",
   "execution_count": 465,
   "id": "educated-equipment",
   "metadata": {},
   "outputs": [
    {
     "data": {
      "text/plain": [
       "0.16862745098039217"
      ]
     },
     "execution_count": 465,
     "metadata": {},
     "output_type": "execute_result"
    }
   ],
   "source": [
    "lfw_age = collapse_age_cols(lfw)\n",
    "lfw_age[lfw_age < 24].count()/lfw_age.count()"
   ]
  },
  {
   "cell_type": "code",
   "execution_count": 469,
   "id": "crazy-stone",
   "metadata": {},
   "outputs": [
    {
     "data": {
      "text/plain": [
       "0.10526315789473684"
      ]
     },
     "execution_count": 469,
     "metadata": {},
     "output_type": "execute_result"
    }
   ],
   "source": [
    "gc_vuelta[gc_vuelta['age'] < 24]['age'].count()/gc_vuelta['age'].count()\n"
   ]
  },
  {
   "cell_type": "code",
   "execution_count": 470,
   "id": "superior-literature",
   "metadata": {},
   "outputs": [
    {
     "data": {
      "text/plain": [
       "0.12962962962962962"
      ]
     },
     "execution_count": 470,
     "metadata": {},
     "output_type": "execute_result"
    }
   ],
   "source": [
    "gc_tour[gc_tour['age'] < 24]['age'].count()/gc_tour['age'].count()"
   ]
  },
  {
   "cell_type": "code",
   "execution_count": 471,
   "id": "charged-utility",
   "metadata": {},
   "outputs": [
    {
     "data": {
      "text/plain": [
       "0.1262135922330097"
      ]
     },
     "execution_count": 471,
     "metadata": {},
     "output_type": "execute_result"
    }
   ],
   "source": [
    "gc_giro[gc_giro['age'] < 24]['age'].count()/gc_giro['age'].count()"
   ]
  },
  {
   "cell_type": "code",
   "execution_count": 482,
   "id": "innovative-assist",
   "metadata": {},
   "outputs": [
    {
     "ename": "NameError",
     "evalue": "name 'all_data' is not defined",
     "output_type": "error",
     "traceback": [
      "\u001b[0;31m---------------------------------------------------------------------------\u001b[0m",
      "\u001b[0;31mNameError\u001b[0m                                 Traceback (most recent call last)",
      "\u001b[0;32m<ipython-input-482-0cd65f1f8801>\u001b[0m in \u001b[0;36m<module>\u001b[0;34m\u001b[0m\n\u001b[0;32m----> 1\u001b[0;31m \u001b[0mall_data\u001b[0m\u001b[0;34m\u001b[0m\u001b[0;34m\u001b[0m\u001b[0m\n\u001b[0m",
      "\u001b[0;31mNameError\u001b[0m: name 'all_data' is not defined"
     ]
    }
   ],
   "source": [
    "all_data"
   ]
  },
  {
   "cell_type": "code",
   "execution_count": 486,
   "id": "precise-questionnaire",
   "metadata": {},
   "outputs": [
    {
     "data": {
      "text/html": [
       "<div>\n",
       "<style scoped>\n",
       "    .dataframe tbody tr th:only-of-type {\n",
       "        vertical-align: middle;\n",
       "    }\n",
       "\n",
       "    .dataframe tbody tr th {\n",
       "        vertical-align: top;\n",
       "    }\n",
       "\n",
       "    .dataframe thead th {\n",
       "        text-align: right;\n",
       "    }\n",
       "</style>\n",
       "<table border=\"1\" class=\"dataframe\">\n",
       "  <thead>\n",
       "    <tr style=\"text-align: right;\">\n",
       "      <th></th>\n",
       "      <th>edition</th>\n",
       "      <th>stage</th>\n",
       "      <th>date</th>\n",
       "      <th>avg_speed_of_winner</th>\n",
       "      <th>race_category</th>\n",
       "      <th>distance</th>\n",
       "      <th>point_scale</th>\n",
       "      <th>parcour_type</th>\n",
       "      <th>profile_score</th>\n",
       "      <th>vertical_meters</th>\n",
       "      <th>departure</th>\n",
       "      <th>arrival</th>\n",
       "      <th>race_ranking</th>\n",
       "      <th>won_how</th>\n",
       "      <th>winner</th>\n",
       "      <th>winner_age_when_won</th>\n",
       "      <th>second_age_when_won</th>\n",
       "      <th>third_age_when_won</th>\n",
       "      <th>is_tt</th>\n",
       "    </tr>\n",
       "    <tr>\n",
       "      <th>race</th>\n",
       "      <th></th>\n",
       "      <th></th>\n",
       "      <th></th>\n",
       "      <th></th>\n",
       "      <th></th>\n",
       "      <th></th>\n",
       "      <th></th>\n",
       "      <th></th>\n",
       "      <th></th>\n",
       "      <th></th>\n",
       "      <th></th>\n",
       "      <th></th>\n",
       "      <th></th>\n",
       "      <th></th>\n",
       "      <th></th>\n",
       "      <th></th>\n",
       "      <th></th>\n",
       "      <th></th>\n",
       "      <th></th>\n",
       "    </tr>\n",
       "  </thead>\n",
       "  <tbody>\n",
       "    <tr>\n",
       "      <th>giro-d-italia</th>\n",
       "      <td>1893</td>\n",
       "      <td>1893</td>\n",
       "      <td>1893</td>\n",
       "      <td>774</td>\n",
       "      <td>1893</td>\n",
       "      <td>1893</td>\n",
       "      <td>1893</td>\n",
       "      <td>1893</td>\n",
       "      <td>1893</td>\n",
       "      <td>114</td>\n",
       "      <td>1893</td>\n",
       "      <td>1893</td>\n",
       "      <td>1893</td>\n",
       "      <td>1893</td>\n",
       "      <td>1893</td>\n",
       "      <td>1893</td>\n",
       "      <td>1892</td>\n",
       "      <td>1892</td>\n",
       "      <td>1893</td>\n",
       "    </tr>\n",
       "    <tr>\n",
       "      <th>tour-de-france</th>\n",
       "      <td>2046</td>\n",
       "      <td>2046</td>\n",
       "      <td>2046</td>\n",
       "      <td>2042</td>\n",
       "      <td>2046</td>\n",
       "      <td>2046</td>\n",
       "      <td>2046</td>\n",
       "      <td>2046</td>\n",
       "      <td>2046</td>\n",
       "      <td>357</td>\n",
       "      <td>2046</td>\n",
       "      <td>2046</td>\n",
       "      <td>2046</td>\n",
       "      <td>2046</td>\n",
       "      <td>2046</td>\n",
       "      <td>2046</td>\n",
       "      <td>2045</td>\n",
       "      <td>2046</td>\n",
       "      <td>2046</td>\n",
       "    </tr>\n",
       "    <tr>\n",
       "      <th>vuelta-a-espana</th>\n",
       "      <td>1402</td>\n",
       "      <td>1402</td>\n",
       "      <td>1402</td>\n",
       "      <td>1393</td>\n",
       "      <td>1402</td>\n",
       "      <td>1402</td>\n",
       "      <td>1402</td>\n",
       "      <td>1402</td>\n",
       "      <td>1402</td>\n",
       "      <td>433</td>\n",
       "      <td>1402</td>\n",
       "      <td>1402</td>\n",
       "      <td>1402</td>\n",
       "      <td>1402</td>\n",
       "      <td>1402</td>\n",
       "      <td>1399</td>\n",
       "      <td>1394</td>\n",
       "      <td>1395</td>\n",
       "      <td>1402</td>\n",
       "    </tr>\n",
       "  </tbody>\n",
       "</table>\n",
       "</div>"
      ],
      "text/plain": [
       "                 edition  stage  date  avg_speed_of_winner  race_category  \\\n",
       "race                                                                        \n",
       "giro-d-italia       1893   1893  1893                  774           1893   \n",
       "tour-de-france      2046   2046  2046                 2042           2046   \n",
       "vuelta-a-espana     1402   1402  1402                 1393           1402   \n",
       "\n",
       "                 distance  point_scale  parcour_type  profile_score  \\\n",
       "race                                                                  \n",
       "giro-d-italia        1893         1893          1893           1893   \n",
       "tour-de-france       2046         2046          2046           2046   \n",
       "vuelta-a-espana      1402         1402          1402           1402   \n",
       "\n",
       "                 vertical_meters  departure  arrival  race_ranking  won_how  \\\n",
       "race                                                                          \n",
       "giro-d-italia                114       1893     1893          1893     1893   \n",
       "tour-de-france               357       2046     2046          2046     2046   \n",
       "vuelta-a-espana              433       1402     1402          1402     1402   \n",
       "\n",
       "                 winner  winner_age_when_won  second_age_when_won  \\\n",
       "race                                                                \n",
       "giro-d-italia      1893                 1893                 1892   \n",
       "tour-de-france     2046                 2046                 2045   \n",
       "vuelta-a-espana    1402                 1399                 1394   \n",
       "\n",
       "                 third_age_when_won  is_tt  \n",
       "race                                        \n",
       "giro-d-italia                  1892   1893  \n",
       "tour-de-france                 2046   2046  \n",
       "vuelta-a-espana                1395   1402  "
      ]
     },
     "execution_count": 486,
     "metadata": {},
     "output_type": "execute_result"
    }
   ],
   "source": []
  },
  {
   "cell_type": "code",
   "execution_count": 552,
   "id": "spread-limit",
   "metadata": {},
   "outputs": [
    {
     "data": {
      "image/png": "[encoded data removed]",
      "text/plain": [
       "<Figure size 432x576 with 1 Axes>"
      ]
     },
     "metadata": {},
     "output_type": "display_data"
    }
   ],
   "source": [
    "def p(race,name, save = False):\n",
    "    t = data[data['race'] == race]\n",
    "    a = t[['edition','second_age_when_won']].rename({'second_age_when_won' : 'age'},axis = 1)\n",
    "    b = t[['edition','winner_age_when_won']].rename({'winner_age_when_won' : 'age'},axis = 1)\n",
    "    c = t[['edition','third_age_when_won']].rename({'third_age_when_won' : 'age'},axis = 1)\n",
    "    f = pd.concat([a,b,c])\n",
    "    plt.figure(figsize=(6,8))\n",
    "    p = sns.histplot(f['age'],color = '#deba1b',kde = True)\n",
    "    percent_under_24 = 0\n",
    "    \n",
    "    \n",
    "    sns.despine()\n",
    "    p.set_xlabel('Age (yrs)')\n",
    "    p.set_ylabel('Number of Wins')\n",
    "    x_c = 33\n",
    "    p.text(x_c,300,name,weight = 'semibold',size = 15)\n",
    "    p.text(x_c,285,'Mean : {} yrs'.format(round(f['age'].mean(),2)),size = 15)\n",
    "    p.text(x_c,270,'StdD : {} yrs'.format(round(f['age'].std(),2)),size = 15)\n",
    "    \n",
    "    if save:\n",
    "        plt.savefig(f'Seaborn_plots/tour_stage_age_plots/{name}_weight_plot.pdf')\n",
    "    \n",
    "p('tour-de-france','Tour de France', save = True)\n",
    "# p('vuelta-a-espana', 'Vuelta a Espana',save = True)\n",
    "# p('giro-d-italia','Giro d\\'Italia',save = True)\n",
    "\n"
   ]
  },
  {
   "cell_type": "code",
   "execution_count": 511,
   "id": "unsigned-advocate",
   "metadata": {},
   "outputs": [],
   "source": [
    "def get_age_percent(race):\n",
    "    t = data[data['race'] == race]\n",
    "    a = t[['edition','second_age_when_won']].rename({'second_age_when_won' : 'age'},axis = 1)\n",
    "    b = t[['edition','winner_age_when_won']].rename({'winner_age_when_won' : 'age'},axis = 1)\n",
    "    c = t[['edition','third_age_when_won']].rename({'third_age_when_won' : 'age'},axis = 1)\n",
    "    f = pd.concat([a,b,c])\n",
    "    return f\n",
    "    \n",
    "    "
   ]
  },
  {
   "cell_type": "code",
   "execution_count": 547,
   "id": "working-latin",
   "metadata": {},
   "outputs": [],
   "source": [
    "g = make_age_col('giro-d-italia')\n",
    "v = make_age_col('vuelta-a-espana')\n",
    "t = make_age_col('tour-de-france')\n"
   ]
  },
  {
   "cell_type": "code",
   "execution_count": 553,
   "id": "collectible-chorus",
   "metadata": {},
   "outputs": [
    {
     "name": "stdout",
     "output_type": "stream",
     "text": [
      "0.14831777347190417\n",
      "0.1361031518624642\n",
      "0.12840149910379664\n"
     ]
    }
   ],
   "source": [
    "print(g[g['age'] < 24]['age'].count()/g['age'].count())\n",
    "print(v[v['age'] < 24]['age'].count()/v['age'].count())\n",
    "print(t[t['age'] < 24]['age'].count()/t['age'].count())"
   ]
  },
  {
   "cell_type": "code",
   "execution_count": 521,
   "id": "desirable-isolation",
   "metadata": {},
   "outputs": [
    {
     "data": {
      "text/html": [
       "<div>\n",
       "<style scoped>\n",
       "    .dataframe tbody tr th:only-of-type {\n",
       "        vertical-align: middle;\n",
       "    }\n",
       "\n",
       "    .dataframe tbody tr th {\n",
       "        vertical-align: top;\n",
       "    }\n",
       "\n",
       "    .dataframe thead th {\n",
       "        text-align: right;\n",
       "    }\n",
       "</style>\n",
       "<table border=\"1\" class=\"dataframe\">\n",
       "  <thead>\n",
       "    <tr style=\"text-align: right;\">\n",
       "      <th></th>\n",
       "      <th>edition</th>\n",
       "      <th>age</th>\n",
       "    </tr>\n",
       "  </thead>\n",
       "  <tbody>\n",
       "    <tr>\n",
       "      <th>0</th>\n",
       "      <td>1909</td>\n",
       "      <td>19.75</td>\n",
       "    </tr>\n",
       "    <tr>\n",
       "      <th>1</th>\n",
       "      <td>1909</td>\n",
       "      <td>25.47</td>\n",
       "    </tr>\n",
       "    <tr>\n",
       "      <th>2</th>\n",
       "      <td>1909</td>\n",
       "      <td>26.74</td>\n",
       "    </tr>\n",
       "    <tr>\n",
       "      <th>3</th>\n",
       "      <td>1909</td>\n",
       "      <td>20.55</td>\n",
       "    </tr>\n",
       "    <tr>\n",
       "      <th>4</th>\n",
       "      <td>1909</td>\n",
       "      <td>26.76</td>\n",
       "    </tr>\n",
       "  </tbody>\n",
       "</table>\n",
       "</div>"
      ],
      "text/plain": [
       "   edition    age\n",
       "0     1909  19.75\n",
       "1     1909  25.47\n",
       "2     1909  26.74\n",
       "3     1909  20.55\n",
       "4     1909  26.76"
      ]
     },
     "execution_count": 521,
     "metadata": {},
     "output_type": "execute_result"
    }
   ],
   "source": [
    "g.head()"
   ]
  },
  {
   "cell_type": "code",
   "execution_count": 518,
   "id": "lasting-techno",
   "metadata": {},
   "outputs": [
    {
     "data": {
      "text/plain": [
       "(0, 2)"
      ]
     },
     "execution_count": 518,
     "metadata": {},
     "output_type": "execute_result"
    }
   ],
   "source": [
    "g.shape"
   ]
  },
  {
   "cell_type": "code",
   "execution_count": null,
   "id": "absent-yeast",
   "metadata": {},
   "outputs": [],
   "source": []
  }
 ],
 "metadata": {
  "kernelspec": {
   "display_name": "Python 3",
   "language": "python",
   "name": "python3"
  },
  "language_info": {
   "codemirror_mode": {
    "name": "ipython",
    "version": 3
   },
   "file_extension": ".py",
   "mimetype": "text/x-python",
   "name": "python",
   "nbconvert_exporter": "python",
   "pygments_lexer": "ipython3",
   "version": "3.9.1"
  }
 },
 "nbformat": 4,
 "nbformat_minor": 5
}
