{
 "cells": [
  {
   "cell_type": "code",
   "execution_count": 84,
   "id": "minimal-summer",
   "metadata": {},
   "outputs": [],
   "source": [
    "import pandas as pd\n",
    "import numpy as np\n",
    "\n",
    "import matplotlib.pyplot as plt\n"
   ]
  },
  {
   "cell_type": "code",
   "execution_count": 99,
   "id": "korean-essay",
   "metadata": {},
   "outputs": [],
   "source": [
    "data = pd.read_csv('testing_all.csv')"
   ]
  },
  {
   "cell_type": "code",
   "execution_count": 100,
   "id": "instructional-pride",
   "metadata": {},
   "outputs": [
    {
     "data": {
      "text/plain": [
       "(5397, 20)"
      ]
     },
     "execution_count": 100,
     "metadata": {},
     "output_type": "execute_result"
    }
   ],
   "source": [
    "data.head()\n",
    "data.shape"
   ]
  },
  {
   "cell_type": "code",
   "execution_count": 103,
   "id": "unlikely-detection",
   "metadata": {},
   "outputs": [],
   "source": [
    "ages = pd.concat([data['winner_age_when_won'],data['second_age_when_won'],data['third_age_when_won']])"
   ]
  },
  {
   "cell_type": "code",
   "execution_count": null,
   "id": "olympic-ladder",
   "metadata": {},
   "outputs": [],
   "source": []
  },
  {
   "cell_type": "code",
   "execution_count": null,
   "id": "joint-vaccine",
   "metadata": {},
   "outputs": [],
   "source": []
  }
 ],
 "metadata": {
  "kernelspec": {
   "display_name": "Python 3",
   "language": "python",
   "name": "python3"
  },
  "language_info": {
   "codemirror_mode": {
    "name": "ipython",
    "version": 3
   },
   "file_extension": ".py",
   "mimetype": "text/x-python",
   "name": "python",
   "nbconvert_exporter": "python",
   "pygments_lexer": "ipython3",
   "version": "3.9.1"
  }
 },
 "nbformat": 4,
 "nbformat_minor": 5
}
